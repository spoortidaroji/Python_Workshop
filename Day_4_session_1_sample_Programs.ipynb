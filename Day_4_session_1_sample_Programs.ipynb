{
  "nbformat": 4,
  "nbformat_minor": 0,
  "metadata": {
    "colab": {
      "name": "Day 4 session 1 sample Programs.ipynb",
      "provenance": [],
      "authorship_tag": "ABX9TyMnKH57J4jfn8vJmSGR+0uN",
      "include_colab_link": true
    },
    "kernelspec": {
      "name": "python3",
      "display_name": "Python 3"
    }
  },
  "cells": [
    {
      "cell_type": "markdown",
      "metadata": {
        "id": "view-in-github",
        "colab_type": "text"
      },
      "source": [
        "<a href=\"https://colab.research.google.com/github/spoortidaroji/Python_Workshop/blob/master/Day_4_session_1_sample_Programs.ipynb\" target=\"_parent\"><img src=\"https://colab.research.google.com/assets/colab-badge.svg\" alt=\"Open In Colab\"/></a>"
      ]
    },
    {
      "cell_type": "markdown",
      "metadata": {
        "id": "uEWw5_BoHoAs",
        "colab_type": "text"
      },
      "source": [
        "**Writing Pythonic code**"
      ]
    },
    {
      "cell_type": "code",
      "metadata": {
        "id": "ZK8zbQu3HeNq",
        "colab_type": "code",
        "colab": {
          "base_uri": "https://localhost:8080/",
          "height": 35
        },
        "outputId": "5ff79250-8204-41f6-bbff-2ad8a1b5a7a8"
      },
      "source": [
        "result_list = ['True', 'False', 'File not found']\n",
        "result_string = ''\n",
        "for result in result_list:\n",
        "  result_string += result\n",
        "result_string"
      ],
      "execution_count": 1,
      "outputs": [
        {
          "output_type": "execute_result",
          "data": {
            "application/vnd.google.colaboratory.intrinsic+json": {
              "type": "string"
            },
            "text/plain": [
              "'TrueFalseFile not found'"
            ]
          },
          "metadata": {
            "tags": []
          },
          "execution_count": 1
        }
      ]
    },
    {
      "cell_type": "markdown",
      "metadata": {
        "id": "EppjUh61IEHP",
        "colab_type": "text"
      },
      "source": [
        "**without using for loop using join function as per PEP 8 rule**"
      ]
    },
    {
      "cell_type": "code",
      "metadata": {
        "id": "RzDxDZlQIHBS",
        "colab_type": "code",
        "colab": {
          "base_uri": "https://localhost:8080/",
          "height": 35
        },
        "outputId": "98df78ca-86b0-48fe-e552-7f3a7ad4f5c5"
      },
      "source": [
        "result_list = ['True', 'False', 'File not found']\n",
        "result_string = ''.join(result_list)\n",
        "result_string"
      ],
      "execution_count": 2,
      "outputs": [
        {
          "output_type": "execute_result",
          "data": {
            "application/vnd.google.colaboratory.intrinsic+json": {
              "type": "string"
            },
            "text/plain": [
              "'TrueFalseFile not found'"
            ]
          },
          "metadata": {
            "tags": []
          },
          "execution_count": 2
        }
      ]
    },
    {
      "cell_type": "markdown",
      "metadata": {
        "id": "Zw48956UINiS",
        "colab_type": "text"
      },
      "source": [
        "**Chain string functions**"
      ]
    },
    {
      "cell_type": "code",
      "metadata": {
        "id": "so7pgbOYISOt",
        "colab_type": "code",
        "colab": {
          "base_uri": "https://localhost:8080/",
          "height": 35
        },
        "outputId": "7adc0dc2-5bd1-4c11-cf79-436fff36b7ed"
      },
      "source": [
        "book_info = ' The Three Musketeers: Alexandre Dumas'\n",
        "formatted_book_info = book_info.strip()\n",
        "formatted_book_info = formatted_book_info.upper()\n",
        "formatted_book_info = formatted_book_info.replace(':', ' by')\n",
        "formatted_book_info"
      ],
      "execution_count": 3,
      "outputs": [
        {
          "output_type": "execute_result",
          "data": {
            "application/vnd.google.colaboratory.intrinsic+json": {
              "type": "string"
            },
            "text/plain": [
              "'THE THREE MUSKETEERS by ALEXANDRE DUMAS'"
            ]
          },
          "metadata": {
            "tags": []
          },
          "execution_count": 3
        }
      ]
    },
    {
      "cell_type": "markdown",
      "metadata": {
        "id": "zf_uM7ljIhyy",
        "colab_type": "text"
      },
      "source": [
        "The following code is idiomatic"
      ]
    },
    {
      "cell_type": "code",
      "metadata": {
        "id": "2MKPkD2TIioT",
        "colab_type": "code",
        "colab": {
          "base_uri": "https://localhost:8080/",
          "height": 35
        },
        "outputId": "2dd14b74-3ceb-430d-db64-56af3242ec8d"
      },
      "source": [
        "book_info = ' The Three Musketeers: Alexandre Dumas'\n",
        "formatted_book_info = book_info.strip().upper().replace(':', ' by')\n",
        "formatted_book_info"
      ],
      "execution_count": 4,
      "outputs": [
        {
          "output_type": "execute_result",
          "data": {
            "application/vnd.google.colaboratory.intrinsic+json": {
              "type": "string"
            },
            "text/plain": [
              "'THE THREE MUSKETEERS by ALEXANDRE DUMAS'"
            ]
          },
          "metadata": {
            "tags": []
          },
          "execution_count": 4
        }
      ]
    },
    {
      "cell_type": "markdown",
      "metadata": {
        "id": "Opf8V0fPIl17",
        "colab_type": "text"
      },
      "source": [
        "**Removing Duplicates from a List**"
      ]
    },
    {
      "cell_type": "code",
      "metadata": {
        "id": "VSXXCXVWIp_u",
        "colab_type": "code",
        "colab": {
          "base_uri": "https://localhost:8080/",
          "height": 34
        },
        "outputId": "82127f40-06a0-4d95-a363-5f96f60e5d29"
      },
      "source": [
        "ints_list = [1, 2, 3, 4, 3, 2]\n",
        "temp = []\n",
        "for x in ints_list:\n",
        "    if x not in temp:\n",
        "        temp.append(x)\n",
        "ints_list = temp\n",
        "print(f'Updated List after removing duplicates = {temp}')"
      ],
      "execution_count": 5,
      "outputs": [
        {
          "output_type": "stream",
          "text": [
            "Updated List after removing duplicates = [1, 2, 3, 4]\n"
          ],
          "name": "stdout"
        }
      ]
    },
    {
      "cell_type": "markdown",
      "metadata": {
        "id": "304pmajII5zp",
        "colab_type": "text"
      },
      "source": [
        "The following code is idiomatic using set()"
      ]
    },
    {
      "cell_type": "code",
      "metadata": {
        "id": "ZfZemAf4I9q-",
        "colab_type": "code",
        "colab": {
          "base_uri": "https://localhost:8080/",
          "height": 34
        },
        "outputId": "dce4bb3f-3d36-44bd-92b2-e8e2fdb7471b"
      },
      "source": [
        "ints_list = [1, 2, 3, 4, 3, 2]\n",
        "ints_list1 = list(set(ints_list))\n",
        "print(ints_list1)  # [1, 2, 3, 4]"
      ],
      "execution_count": 6,
      "outputs": [
        {
          "output_type": "stream",
          "text": [
            "[1, 2, 3, 4]\n"
          ],
          "name": "stdout"
        }
      ]
    },
    {
      "cell_type": "markdown",
      "metadata": {
        "id": "RiI00eOUJj0b",
        "colab_type": "text"
      },
      "source": [
        "some of the important functions in Python"
      ]
    },
    {
      "cell_type": "markdown",
      "metadata": {
        "id": "dnOoifd_JqR4",
        "colab_type": "text"
      },
      "source": [
        "**zip() in Python**"
      ]
    },
    {
      "cell_type": "code",
      "metadata": {
        "id": "szIGhYaqJphB",
        "colab_type": "code",
        "colab": {
          "base_uri": "https://localhost:8080/",
          "height": 34
        },
        "outputId": "cefff4be-e5b0-41f6-9a62-a65b7387a80a"
      },
      "source": [
        "name = [ \"Manjeet\", \"Nikhil\", \"Shambhavi\", \"Astha\" ] \n",
        "roll_no = [ 4, 1, 3, 2 ] \n",
        "marks = [ 40, 50, 60, 70 ] \n",
        "mapped = zip(name, roll_no, marks) \n",
        "  \n",
        "# converting values to print as set \n",
        "mapped = set(mapped) \n",
        "  \n",
        "# printing resultant values  \n",
        "print (\"The zipped result is : \",end=\"\") \n",
        "print (mapped) "
      ],
      "execution_count": 9,
      "outputs": [
        {
          "output_type": "stream",
          "text": [
            "The zipped result is : {('Nikhil', 1, 50), ('Shambhavi', 3, 60), ('Manjeet', 4, 40), ('Astha', 2, 70)}\n"
          ],
          "name": "stdout"
        }
      ]
    },
    {
      "cell_type": "code",
      "metadata": {
        "id": "53AFJBnSKEqt",
        "colab_type": "code",
        "colab": {
          "base_uri": "https://localhost:8080/",
          "height": 34
        },
        "outputId": "55ff861d-b987-48c7-f45c-78f37a0488b2"
      },
      "source": [
        "name,rollno,marks=zip(*mapped)\n",
        "print(name,rollno,marks)"
      ],
      "execution_count": 10,
      "outputs": [
        {
          "output_type": "stream",
          "text": [
            "('Nikhil', 'Shambhavi', 'Manjeet', 'Astha') (1, 3, 4, 2) (50, 60, 40, 70)\n"
          ],
          "name": "stdout"
        }
      ]
    },
    {
      "cell_type": "markdown",
      "metadata": {
        "id": "4jEOGY-wKBYH",
        "colab_type": "text"
      },
      "source": [
        "**Map() function with lamda in Python**"
      ]
    },
    {
      "cell_type": "code",
      "metadata": {
        "id": "nHczR59pKL8w",
        "colab_type": "code",
        "colab": {
          "base_uri": "https://localhost:8080/",
          "height": 34
        },
        "outputId": "60dc05d9-2894-49d7-bcba-986636e08291"
      },
      "source": [
        "def square(x):\n",
        "    return x*x\n",
        "numbers=[1, 2, 3, 4, 5]\n",
        "sqrList=map(square, numbers)\n",
        "print(list(sqrList))\n",
        "# use lamda function to have direct values\n",
        "sqrList1 = map(lambda x: x*x, [1, 2, 3, 4])"
      ],
      "execution_count": 11,
      "outputs": [
        {
          "output_type": "stream",
          "text": [
            "[1, 4, 9, 16, 25]\n"
          ],
          "name": "stdout"
        }
      ]
    },
    {
      "cell_type": "markdown",
      "metadata": {
        "id": "CvcHPYOrKQp-",
        "colab_type": "text"
      },
      "source": [
        "**Slicing operations in string**"
      ]
    },
    {
      "cell_type": "code",
      "metadata": {
        "id": "75n33duLKUHl",
        "colab_type": "code",
        "colab": {
          "base_uri": "https://localhost:8080/",
          "height": 67
        },
        "outputId": "9d6175c3-1b68-45ef-d143-8295b23bfc64"
      },
      "source": [
        "def change(string):\n",
        "      return string[-1] + string[1:-1] + string[0]\n",
        "string=input(\"Enter string:\")\n",
        "print(\"Modified string:\",change(string))\n",
        "print('original string :',string)"
      ],
      "execution_count": 12,
      "outputs": [
        {
          "output_type": "stream",
          "text": [
            "Enter string:Jhon\n",
            "Modified string: nhoJ\n",
            "original string : Jhon\n"
          ],
          "name": "stdout"
        }
      ]
    },
    {
      "cell_type": "markdown",
      "metadata": {
        "id": "wjOcMRNIKfRr",
        "colab_type": "text"
      },
      "source": [
        "**Removing one character from a string**"
      ]
    },
    {
      "cell_type": "code",
      "metadata": {
        "id": "EuRj6oM6KjNZ",
        "colab_type": "code",
        "colab": {
          "base_uri": "https://localhost:8080/",
          "height": 67
        },
        "outputId": "2a367e03-d63e-49b4-f972-d7a0bf3d2799"
      },
      "source": [
        "def remove(string, n): \n",
        "      first = string[:n]   \n",
        "      last = string[n+1:]  \n",
        "      return first + last\n",
        "string=input(\"Enter the sring:\")\n",
        "n=int(input(\"Enter the index of the character to remove:\"))\n",
        "print(\"Modified string:\",remove(string,n))"
      ],
      "execution_count": 20,
      "outputs": [
        {
          "output_type": "stream",
          "text": [
            "Enter the sring:ramajayam\n",
            "Enter the index of the character to remove:4\n",
            "Modified string: ramaayam\n"
          ],
          "name": "stdout"
        }
      ]
    },
    {
      "cell_type": "markdown",
      "metadata": {
        "id": "N1HDRPi9PQ3g",
        "colab_type": "text"
      },
      "source": [
        "**Sorting in Python using function**"
      ]
    },
    {
      "cell_type": "code",
      "metadata": {
        "id": "ErMEppYbPTlS",
        "colab_type": "code",
        "colab": {
          "base_uri": "https://localhost:8080/",
          "height": 84
        },
        "outputId": "0c216c4a-f165-4f13-ef09-86d60557b546"
      },
      "source": [
        "def myFunc(e):\n",
        "  return len(e)\n",
        "#myfunc=lambda x : len(x)\n",
        "cars = ['Ford', 'Mitsubishi', 'BMW', 'VW']\n",
        "cars.sort(key=myFunc)\n",
        "print(cars)\n",
        "def myFunc(e):\n",
        "  return e[1]\n",
        "cars = [(1,'Ford'), (2,'Mitsubishi'), (3,'BMW'), (4,'VW')]\n",
        "cars.sort(key=myFunc)\n",
        "print(cars)\n",
        "cars.sort(key=myFunc,reverse=True)\n",
        "print(cars)\n",
        "cars.sort(key=myFunc,reverse=True)\n",
        "print(cars)"
      ],
      "execution_count": 22,
      "outputs": [
        {
          "output_type": "stream",
          "text": [
            "['VW', 'BMW', 'Ford', 'Mitsubishi']\n",
            "[(3, 'BMW'), (1, 'Ford'), (2, 'Mitsubishi'), (4, 'VW')]\n",
            "[(4, 'VW'), (2, 'Mitsubishi'), (1, 'Ford'), (3, 'BMW')]\n",
            "[(4, 'VW'), (2, 'Mitsubishi'), (1, 'Ford'), (3, 'BMW')]\n"
          ],
          "name": "stdout"
        }
      ]
    },
    {
      "cell_type": "markdown",
      "metadata": {
        "id": "uzE_W50gQIw2",
        "colab_type": "text"
      },
      "source": [
        "**itertools groupby**"
      ]
    },
    {
      "cell_type": "code",
      "metadata": {
        "id": "cIBPOS3CQMOJ",
        "colab_type": "code",
        "colab": {
          "base_uri": "https://localhost:8080/",
          "height": 101
        },
        "outputId": "484ec20c-43d8-4bf1-9fe6-ae151a7471e6"
      },
      "source": [
        "from itertools import groupby\n",
        "things = [(\"animal\", \"bear\"), (\"animal\", \"duck\"), \\\n",
        "           (\"plant\", \"cactus\"), (\"vehicle\", \"speed boat\"),\\\n",
        "          (\"vehicle\", \"school bus\")]\n",
        "for key, group in groupby(things, lambda x: x[0]):\n",
        "    for thing in group:\n",
        "      print (\"A %s is a %s.\"%(thing[1], key))"
      ],
      "execution_count": 25,
      "outputs": [
        {
          "output_type": "stream",
          "text": [
            "A bear is a animal.\n",
            "A duck is a animal.\n",
            "A cactus is a plant.\n",
            "A speed boat is a vehicle.\n",
            "A school bus is a vehicle.\n"
          ],
          "name": "stdout"
        }
      ]
    },
    {
      "cell_type": "markdown",
      "metadata": {
        "id": "JrEWGDKGQsGH",
        "colab_type": "text"
      },
      "source": [
        "**Combinations Of string \"SADIK\" OF SIZE 3.**"
      ]
    },
    {
      "cell_type": "code",
      "metadata": {
        "id": "sVrIuxjlQwHq",
        "colab_type": "code",
        "colab": {
          "base_uri": "https://localhost:8080/",
          "height": 34
        },
        "outputId": "938eea91-6b11-4fd0-8fc0-47181f55ea3a"
      },
      "source": [
        "from itertools import combinations \n",
        "  \n",
        "letters =\"SADIK\"\n",
        "  \n",
        "# size of combination is set to 3 \n",
        "a = combinations(letters, 3)  \n",
        "y = [' '.join(i) for i in a]  \n",
        "print(y) "
      ],
      "execution_count": 26,
      "outputs": [
        {
          "output_type": "stream",
          "text": [
            "['S A D', 'S A I', 'S A K', 'S D I', 'S D K', 'S I K', 'A D I', 'A D K', 'A I K', 'D I K']\n"
          ],
          "name": "stdout"
        }
      ]
    },
    {
      "cell_type": "markdown",
      "metadata": {
        "id": "DhOgTfvNQ2S7",
        "colab_type": "text"
      },
      "source": [
        "**Permutations Of string \"SADIK\" OF SIZE 3**"
      ]
    },
    {
      "cell_type": "code",
      "metadata": {
        "id": "ZFe1WfwvQ6gf",
        "colab_type": "code",
        "colab": {
          "base_uri": "https://localhost:8080/",
          "height": 54
        },
        "outputId": "cb214940-d7f6-4807-ca9f-ed7589066dc2"
      },
      "source": [
        "from itertools import permutations \n",
        "  \n",
        "letters =\"SADIK\"\n",
        "  \n",
        "# size of permutaion is set to 3 \n",
        "a = permutations(letters, 3)  \n",
        "y = [' '.join(i) for i in a]  \n",
        "print(y) "
      ],
      "execution_count": 27,
      "outputs": [
        {
          "output_type": "stream",
          "text": [
            "['S A D', 'S A I', 'S A K', 'S D A', 'S D I', 'S D K', 'S I A', 'S I D', 'S I K', 'S K A', 'S K D', 'S K I', 'A S D', 'A S I', 'A S K', 'A D S', 'A D I', 'A D K', 'A I S', 'A I D', 'A I K', 'A K S', 'A K D', 'A K I', 'D S A', 'D S I', 'D S K', 'D A S', 'D A I', 'D A K', 'D I S', 'D I A', 'D I K', 'D K S', 'D K A', 'D K I', 'I S A', 'I S D', 'I S K', 'I A S', 'I A D', 'I A K', 'I D S', 'I D A', 'I D K', 'I K S', 'I K A', 'I K D', 'K S A', 'K S D', 'K S I', 'K A S', 'K A D', 'K A I', 'K D S', 'K D A', 'K D I', 'K I S', 'K I A', 'K I D']\n"
          ],
          "name": "stdout"
        }
      ]
    },
    {
      "cell_type": "markdown",
      "metadata": {
        "id": "jC31RT2wQ2HA",
        "colab_type": "text"
      },
      "source": [
        "**Accumulate()**\n"
      ]
    },
    {
      "cell_type": "code",
      "metadata": {
        "id": "xBgOL46cRDdD",
        "colab_type": "code",
        "colab": {
          "base_uri": "https://localhost:8080/",
          "height": 101
        },
        "outputId": "d2aa6e1e-a801-401d-f8ed-e8c12172673a"
      },
      "source": [
        "# import the itertool module  \n",
        "# to work with it \n",
        "import itertools \n",
        "  \n",
        "# import operator to work  \n",
        "# with operator \n",
        "import operator \n",
        "  \n",
        "# creating a list GFG \n",
        "GFG = [1, 2, 3, 4, 5] \n",
        "  \n",
        "# using the itertools.accumulate()  \n",
        "result = itertools.accumulate(GFG,  \n",
        "                              operator.mul) \n",
        "  \n",
        "# printing each item from list \n",
        "for each in result: \n",
        "    print(each) "
      ],
      "execution_count": 28,
      "outputs": [
        {
          "output_type": "stream",
          "text": [
            "1\n",
            "2\n",
            "6\n",
            "24\n",
            "120\n"
          ],
          "name": "stdout"
        }
      ]
    },
    {
      "cell_type": "markdown",
      "metadata": {
        "id": "7k6Nfez0RHsW",
        "colab_type": "text"
      },
      "source": [
        "**Swaping by ^(Exclusive or)**"
      ]
    },
    {
      "cell_type": "code",
      "metadata": {
        "id": "g3kVPjzrRLDZ",
        "colab_type": "code",
        "colab": {
          "base_uri": "https://localhost:8080/",
          "height": 50
        },
        "outputId": "dd75df98-45bf-4d37-87c4-62debe486dd7"
      },
      "source": [
        "a=5\n",
        "b=4\n",
        "a=a^b\n",
        "b=a^b\n",
        "a=a^b\n",
        "print(a)\n",
        "print(b)"
      ],
      "execution_count": 29,
      "outputs": [
        {
          "output_type": "stream",
          "text": [
            "4\n",
            "5\n"
          ],
          "name": "stdout"
        }
      ]
    }
  ]
}