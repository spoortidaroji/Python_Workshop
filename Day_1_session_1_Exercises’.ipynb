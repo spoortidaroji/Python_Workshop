{
  "nbformat": 4,
  "nbformat_minor": 0,
  "metadata": {
    "colab": {
      "name": "Day 1  session 1 Exercises’.ipynb",
      "provenance": [],
      "authorship_tag": "ABX9TyM7lITEtAK55VjvJmNa1uy1",
      "include_colab_link": true
    },
    "kernelspec": {
      "name": "python3",
      "display_name": "Python 3"
    }
  },
  "cells": [
    {
      "cell_type": "markdown",
      "metadata": {
        "id": "view-in-github",
        "colab_type": "text"
      },
      "source": [
        "<a href=\"https://colab.research.google.com/github/spoortidaroji/Python_Workshop/blob/master/Day_1_session_1_Exercises%E2%80%99.ipynb\" target=\"_parent\"><img src=\"https://colab.research.google.com/assets/colab-badge.svg\" alt=\"Open In Colab\"/></a>"
      ]
    },
    {
      "cell_type": "markdown",
      "metadata": {
        "id": "UasZ693R5aqZ",
        "colab_type": "text"
      },
      "source": [
        "**Python program to Find the compound interest for the given p,n,r  (formula : p(1+n*r/100)n )**"
      ]
    },
    {
      "cell_type": "code",
      "metadata": {
        "id": "xPl52lNL5S2K",
        "colab_type": "code",
        "colab": {
          "base_uri": "https://localhost:8080/",
          "height": 84
        },
        "outputId": "ff589235-e320-4f4e-b099-a56c4e93bbac"
      },
      "source": [
        "#Program to compute compound interes\n",
        "\n",
        "principalamt=float(input(\"Enter a principalamount: \"))\n",
        "rate=float(input(\"Enter the rate: \"))\n",
        "n=float(input(\"Enter the time:\"))\n",
        "\n",
        "#calculating compound interest\n",
        "CI= principalamt* (pow((1 + rate / 100), n))\n",
        "\n",
        "#printing the value\n",
        "print(\"The compound interest is:\",CI)"
      ],
      "execution_count": null,
      "outputs": [
        {
          "output_type": "stream",
          "text": [
            "Enter a principalamount: 10000\n",
            "Enter the rate: 3.5\n",
            "Enter the time:2\n",
            "The compound interest is: 10712.249999999998\n"
          ],
          "name": "stdout"
        }
      ]
    },
    {
      "cell_type": "markdown",
      "metadata": {
        "id": "KsW81Y2N553A",
        "colab_type": "text"
      },
      "source": [
        "**Python program to Convert centegrade to farenheit  ( f= 9/5*c+32)**"
      ]
    },
    {
      "cell_type": "code",
      "metadata": {
        "id": "QQPVUAmI54q1",
        "colab_type": "code",
        "colab": {
          "base_uri": "https://localhost:8080/",
          "height": 50
        },
        "outputId": "feb21170-6a50-4557-cd8e-67b50029697e"
      },
      "source": [
        "c=float(input(\"Enter the celcius\"))\n",
        "f=9/5*c+32\n",
        "print(\"Farenheit is:\",f)"
      ],
      "execution_count": 5,
      "outputs": [
        {
          "output_type": "stream",
          "text": [
            "Enter the celcius37.2\n",
            "Farenheit is: 98.96000000000001\n"
          ],
          "name": "stdout"
        }
      ]
    },
    {
      "cell_type": "markdown",
      "metadata": {
        "id": "DeYlXMGJARky",
        "colab_type": "text"
      },
      "source": [
        "**Python Program to Find the greater of two numbers**"
      ]
    },
    {
      "cell_type": "code",
      "metadata": {
        "id": "zQGHVE90Ag_Q",
        "colab_type": "code",
        "colab": {
          "base_uri": "https://localhost:8080/",
          "height": 67
        },
        "outputId": "cf160489-5da0-4cf5-a583-b9fb0baac4a0"
      },
      "source": [
        "#Entering any two numbers\n",
        "a=int(input(\"Enter the first number\"))\n",
        "b=int(input(\"Enter the Second number\"))\n",
        "if(a>b):\n",
        "  print(\"{0} is Greater than {1}\".format(a, b))\n",
        "elif(b > a):\n",
        "  print(\"{0} is Greater than {1}\".format(b, a))\n",
        "else:\n",
        "  print(\"Both a and b are Equal\")"
      ],
      "execution_count": 1,
      "outputs": [
        {
          "output_type": "stream",
          "text": [
            "Enter the first number5\n",
            "Enter the Second number8\n",
            "8 is Greater than 5\n"
          ],
          "name": "stdout"
        }
      ]
    },
    {
      "cell_type": "markdown",
      "metadata": {
        "id": "UrDFToWXHhXf",
        "colab_type": "text"
      },
      "source": [
        "**Write a program for finding surface areas of cylinder and cone (2*PI*r*r*s, 1/3*PI*r*r*h) using function.**"
      ]
    },
    {
      "cell_type": "code",
      "metadata": {
        "id": "CZMPC-1hHsff",
        "colab_type": "code",
        "colab": {
          "base_uri": "https://localhost:8080/",
          "height": 101
        },
        "outputId": "257b5884-aceb-4073-e295-6ec546138be6"
      },
      "source": [
        "''' Python3 program to calculate Volume and  \n",
        "    Surface area of Cone'''\n",
        "  \n",
        "# assigning value Of PI \n",
        "pi =3.142\n",
        "  \n",
        "# Function to calculate Volume of Cone \n",
        "def volume(r, h): \n",
        "    return (1 / 3) * pi * r * r * h \n",
        "  \n",
        "# Function To Calculate Surface Area of Cone \n",
        "def surfacearea(r, s): \n",
        "    return pi * r * s + pi * r * r \n",
        "  \n",
        "# Driver Code \n",
        "radius = float(input(\"Enter the radius\")) \n",
        "height = float(input(\"Enter the height\")) \n",
        "slat_height = float(input(\"Enter the slant height\")) \n",
        "print( \"Volume Of Cone : \", volume(radius, height) ) \n",
        "print( \"Surface Area Of Cone : \", surfacearea(radius, slat_height) ) "
      ],
      "execution_count": 3,
      "outputs": [
        {
          "output_type": "stream",
          "text": [
            "Enter the radius4\n",
            "Enter the height6\n",
            "Enter the slant height8\n",
            "Volume Of Cone :  100.54399999999998\n",
            "Surface Area Of Cone :  150.816\n"
          ],
          "name": "stdout"
        }
      ]
    },
    {
      "cell_type": "markdown",
      "metadata": {
        "id": "1ySah4HQJ7m6",
        "colab_type": "text"
      },
      "source": [
        "**Find the greatest of four numbers(using ‘and’ operator)using function.**"
      ]
    },
    {
      "cell_type": "markdown",
      "metadata": {
        "id": "X_wvjR76HVm1",
        "colab_type": "text"
      },
      "source": [
        "****"
      ]
    },
    {
      "cell_type": "code",
      "metadata": {
        "id": "wxJ8UOVbKUgo",
        "colab_type": "code",
        "colab": {
          "base_uri": "https://localhost:8080/",
          "height": 101
        },
        "outputId": "4cb22ee1-331f-465f-e7a8-1be9e516529a"
      },
      "source": [
        "num1=int(input(\"Enter the first number: \"))\n",
        "num2=int(input(\"Enter the second number: \"))\n",
        "num3=int(input(\"Enter the Third number: \"))\n",
        "num4=int(input(\"Enter the fourth number\"))\n",
        "def find_Biggest():     \n",
        "     if(num1>=num2) and (num1>=num2):\n",
        "         greatest=num1\n",
        "     elif(num2>=num1) and (num2>=num3):\n",
        "         greatest=num2\n",
        "     elif(num3>=num4) and (num3>=num4):\n",
        "         greatest=num3\n",
        "     else:\n",
        "         greatest=num4\n",
        "     print(\"greatest number is\",greatest)\n",
        "find_Biggest();         "
      ],
      "execution_count": 9,
      "outputs": [
        {
          "output_type": "stream",
          "text": [
            "Enter the first number: 5\n",
            "Enter the second number: 9\n",
            "Enter the Third number: 2\n",
            "Enter the fourth number7\n",
            "greatest number is 9\n"
          ],
          "name": "stdout"
        }
      ]
    }
  ]
}