{
  "nbformat": 4,
  "nbformat_minor": 0,
  "metadata": {
    "colab": {
      "name": "Day 2 session 2 sample.ipynb",
      "provenance": [],
      "mount_file_id": "1idGxjvXCzmI51M7uASKsldiJLxZt8i01",
      "authorship_tag": "ABX9TyMbFHDqMaazHsGR0CKD2yia",
      "include_colab_link": true
    },
    "kernelspec": {
      "name": "python3",
      "display_name": "Python 3"
    }
  },
  "cells": [
    {
      "cell_type": "markdown",
      "metadata": {
        "id": "view-in-github",
        "colab_type": "text"
      },
      "source": [
        "<a href=\"https://colab.research.google.com/github/spoortidaroji/Python_Workshop/blob/master/Day_2_session_2_sample.ipynb\" target=\"_parent\"><img src=\"https://colab.research.google.com/assets/colab-badge.svg\" alt=\"Open In Colab\"/></a>"
      ]
    },
    {
      "cell_type": "markdown",
      "metadata": {
        "id": "eyCHXmtspu-Y",
        "colab_type": "text"
      },
      "source": [
        "\n",
        "**Dictionary Worked out Examples**\n",
        "\n"
      ]
    },
    {
      "cell_type": "markdown",
      "metadata": {
        "id": "UelQ_pQQrW54",
        "colab_type": "text"
      },
      "source": [
        "**Python Program to Generate a Dictionary that Contains Numbers (between 1 and n) in the Form (x,x*x).** \n"
      ]
    },
    {
      "cell_type": "code",
      "metadata": {
        "id": "YjZnVWPVrjDx",
        "colab_type": "code",
        "colab": {
          "base_uri": "https://localhost:8080/",
          "height": 50
        },
        "outputId": "2b137f80-912c-43a7-fbfa-107483e5761d"
      },
      "source": [
        "n=int(input(\"Enter a number:\"))\n",
        "d={x:x*x for x in range(1,n+1)}\n",
        "print(d)"
      ],
      "execution_count": 9,
      "outputs": [
        {
          "output_type": "stream",
          "text": [
            "Enter a number:5\n",
            "{1: 1, 2: 4, 3: 9, 4: 16, 5: 25}\n"
          ],
          "name": "stdout"
        }
      ]
    },
    {
      "cell_type": "markdown",
      "metadata": {
        "id": "0wZHT8LQrmn1",
        "colab_type": "text"
      },
      "source": [
        "**Python Program to Sum All the Items in a Dictionary**"
      ]
    },
    {
      "cell_type": "code",
      "metadata": {
        "id": "wy8f-sK3rwY3",
        "colab_type": "code",
        "colab": {
          "base_uri": "https://localhost:8080/",
          "height": 50
        },
        "outputId": "f3bcf087-b9f0-496c-e81a-404a5e7bc6b1"
      },
      "source": [
        "d={'A':100,'B':540,'C':239}\n",
        "print(\"Total sum of values in the dictionary:\")\n",
        "print(sum(d.values()))"
      ],
      "execution_count": 10,
      "outputs": [
        {
          "output_type": "stream",
          "text": [
            "Total sum of values in the dictionary:\n",
            "879\n"
          ],
          "name": "stdout"
        }
      ]
    },
    {
      "cell_type": "markdown",
      "metadata": {
        "id": "i3HDvVALr4nn",
        "colab_type": "text"
      },
      "source": [
        "**Python Program to Remove the Given Key from a Dictionary**"
      ]
    },
    {
      "cell_type": "code",
      "metadata": {
        "id": "_7iSPOGMr6YZ",
        "colab_type": "code",
        "colab": {
          "base_uri": "https://localhost:8080/",
          "height": 101
        },
        "outputId": "68f1248c-52d1-4096-ba59-ad669e7bf45e"
      },
      "source": [
        "d = {'a':1,'b':2,'c':3,'d':4}\n",
        "print(\"Initial dictionary\")\n",
        "print(d)\n",
        "key=input(\"Enter the key to delete(a-d):\")\n",
        "if key in d: \n",
        "    del d[key]\n",
        "else:\n",
        "    print(\"Key not found!\")\n",
        "    exit(0)\n",
        "print(\"Updated dictionary\")\n",
        "print(d)"
      ],
      "execution_count": 11,
      "outputs": [
        {
          "output_type": "stream",
          "text": [
            "Initial dictionary\n",
            "{'a': 1, 'b': 2, 'c': 3, 'd': 4}\n",
            "Enter the key to delete(a-d):d\n",
            "Updated dictionary\n",
            "{'a': 1, 'b': 2, 'c': 3}\n"
          ],
          "name": "stdout"
        }
      ]
    },
    {
      "cell_type": "markdown",
      "metadata": {
        "id": "pus1tYKwsCbN",
        "colab_type": "text"
      },
      "source": [
        "**Python Program to add name and mark as key->value pair in  a Dictionary and print it**"
      ]
    },
    {
      "cell_type": "code",
      "metadata": {
        "id": "5XmM1YVzsKJX",
        "colab_type": "code",
        "colab": {
          "base_uri": "https://localhost:8080/",
          "height": 134
        },
        "outputId": "5b7801d0-1b05-4f10-d8da-cba25c4dff0c"
      },
      "source": [
        "n=int(input(\"Enter no of records\"))\n",
        "d={}\n",
        "for i in range(1,n+1):\n",
        "    name= input(\"Enter name %d\"%(i))\n",
        "    mark=int(input(\"Enter mark %d\"%(i)))\n",
        "    d[name]=mark\n",
        "    print (d)"
      ],
      "execution_count": 14,
      "outputs": [
        {
          "output_type": "stream",
          "text": [
            "Enter no of records2\n",
            "Enter name 1Jhon\n",
            "Enter mark 1234\n",
            "{'Jhon': 234}\n",
            "Enter name 2Moni\n",
            "Enter mark 2589\n",
            "{'Jhon': 234, 'Moni': 589}\n"
          ],
          "name": "stdout"
        }
      ]
    },
    {
      "cell_type": "markdown",
      "metadata": {
        "id": "iO3niYsesrYH",
        "colab_type": "text"
      },
      "source": [
        "**Keys and Values example**"
      ]
    },
    {
      "cell_type": "code",
      "metadata": {
        "id": "oIg86MSYsxbP",
        "colab_type": "code",
        "colab": {
          "base_uri": "https://localhost:8080/",
          "height": 487
        },
        "outputId": "f1449e77-c826-47e3-ef30-0847c49e5c81"
      },
      "source": [
        "# Keys and Values example\n",
        "d={}\n",
        "print (\" The dictionary elements are\")\n",
        "for i in range(1,21):\n",
        "    d[i]=i**2\n",
        "print (d)\n",
        "# To print key and values\n",
        "print (\" Key==> Value are\")\n",
        "for (k,v) in d.items():\t\n",
        "    print(k,\"==>\",v)\n",
        "# To print key only\n",
        "print (\"\\nTo print key only\")\n",
        "for k in d.keys():\t\n",
        "     print(k, end=\" \")\n",
        "#To print value only\n",
        "print (\"\\nTo print values only\")\n",
        "for v in d.values():\t\n",
        "    print(v, end=\" \")"
      ],
      "execution_count": 38,
      "outputs": [
        {
          "output_type": "stream",
          "text": [
            " The dictionary elements are\n",
            "{1: 1, 2: 4, 3: 9, 4: 16, 5: 25, 6: 36, 7: 49, 8: 64, 9: 81, 10: 100, 11: 121, 12: 144, 13: 169, 14: 196, 15: 225, 16: 256, 17: 289, 18: 324, 19: 361, 20: 400}\n",
            " Key==> Value are\n",
            "1 ==> 1\n",
            "2 ==> 4\n",
            "3 ==> 9\n",
            "4 ==> 16\n",
            "5 ==> 25\n",
            "6 ==> 36\n",
            "7 ==> 49\n",
            "8 ==> 64\n",
            "9 ==> 81\n",
            "10 ==> 100\n",
            "11 ==> 121\n",
            "12 ==> 144\n",
            "13 ==> 169\n",
            "14 ==> 196\n",
            "15 ==> 225\n",
            "16 ==> 256\n",
            "17 ==> 289\n",
            "18 ==> 324\n",
            "19 ==> 361\n",
            "20 ==> 400\n",
            "\n",
            "To print key only\n",
            "1 2 3 4 5 6 7 8 9 10 11 12 13 14 15 16 17 18 19 20 \n",
            "To print values only\n",
            "1 4 9 16 25 36 49 64 81 100 121 144 169 196 225 256 289 324 361 400 "
          ],
          "name": "stdout"
        }
      ]
    },
    {
      "cell_type": "markdown",
      "metadata": {
        "id": "jz5aSxNUusYT",
        "colab_type": "text"
      },
      "source": [
        "**Python program to convert 2 digit number  into words**"
      ]
    },
    {
      "cell_type": "code",
      "metadata": {
        "id": "8GQK9oyru1vR",
        "colab_type": "code",
        "colab": {
          "base_uri": "https://localhost:8080/",
          "height": 50
        },
        "outputId": "2d9dbfc6-893f-4d00-e687-ee68c66e4e80"
      },
      "source": [
        "d={0:'',1:'one',2:'two',3:'three',4:'four',5:'five',6:'six',7:'seven',8:'eight',9:'nine',\\\n",
        "   10:'ten',11:'eleven',12:'twelve',13:'thirteen',14:'fourteen',15:'fifteen',16:'sixteen',\\\n",
        "   17:'seventeen',18:'eightteen',19:'nineteen',20:'twenty',30:'thirty',40:'fourty',50:'fifty',\\\n",
        "   60:'sixty',70:'seventy',80:'eighty',90:'ninty'}\n",
        "\n",
        "num=int(input(\"Enter the integer between 1 to 99:\"))\n",
        "if (num<=20):\n",
        "      print(d[num])\n",
        "if(num>20 and num<100):\n",
        "        if num%10==0:       \n",
        "            print(d[num])\n",
        "        else:\n",
        "            print(d[num//10*10]+\" \"+d[num%10])"
      ],
      "execution_count": 19,
      "outputs": [
        {
          "output_type": "stream",
          "text": [
            "Enter the integer between 1 to 99:22\n",
            "twenty two\n"
          ],
          "name": "stdout"
        }
      ]
    },
    {
      "cell_type": "markdown",
      "metadata": {
        "id": "UCdZRWp6vFj-",
        "colab_type": "text"
      },
      "source": [
        "**How to sort a dictionary by values in Python**"
      ]
    },
    {
      "cell_type": "code",
      "metadata": {
        "id": "kJDVHpNOvLU7",
        "colab_type": "code",
        "colab": {
          "base_uri": "https://localhost:8080/",
          "height": 50
        },
        "outputId": "2b92f301-5db2-4637-f13e-141b2a7e989c"
      },
      "source": [
        "d = {\"Pierre\": 42, \"Anne\": 33, \"Zoe\": 24}\n",
        "#Use the sorted function and operator module\n",
        "import operator\n",
        "sorted_d = sorted(d.items(), key=operator.itemgetter(1))\n",
        "print(sorted_d)\n",
        "sorted_a= sorted(d.items(), key=operator.itemgetter(1),reverse=True)\n",
        "print(sorted_a)"
      ],
      "execution_count": 20,
      "outputs": [
        {
          "output_type": "stream",
          "text": [
            "[('Zoe', 24), ('Anne', 33), ('Pierre', 42)]\n",
            "[('Pierre', 42), ('Anne', 33), ('Zoe', 24)]\n"
          ],
          "name": "stdout"
        }
      ]
    },
    {
      "cell_type": "markdown",
      "metadata": {
        "id": "hOxjrk3_vWLj",
        "colab_type": "text"
      },
      "source": [
        "**Files Examples**"
      ]
    },
    {
      "cell_type": "code",
      "metadata": {
        "id": "q07KJkoqB_jg",
        "colab_type": "code",
        "colab": {
          "base_uri": "https://localhost:8080/",
          "height": 121
        },
        "outputId": "0179fb39-eac2-41b7-e3d5-917cc8de800e"
      },
      "source": [
        "from google.colab import drive\n",
        "drive.mount('/content/gdrive')"
      ],
      "execution_count": 41,
      "outputs": [
        {
          "output_type": "stream",
          "text": [
            "Go to this URL in a browser: https://accounts.google.com/o/oauth2/auth?client_id=947318989803-6bn6qk8qdgf4n4g3pfee6491hc0brc4i.apps.googleusercontent.com&redirect_uri=urn%3aietf%3awg%3aoauth%3a2.0%3aoob&response_type=code&scope=email%20https%3a%2f%2fwww.googleapis.com%2fauth%2fdocs.test%20https%3a%2f%2fwww.googleapis.com%2fauth%2fdrive%20https%3a%2f%2fwww.googleapis.com%2fauth%2fdrive.photos.readonly%20https%3a%2f%2fwww.googleapis.com%2fauth%2fpeopleapi.readonly\n",
            "\n",
            "Enter your authorization code:\n",
            "··········\n",
            "Mounted at /content/gdrive\n"
          ],
          "name": "stdout"
        }
      ]
    },
    {
      "cell_type": "markdown",
      "metadata": {
        "id": "4naZYJBgvd9C",
        "colab_type": "text"
      },
      "source": [
        "**Python Program to count the number of lines in a text file.**"
      ]
    },
    {
      "cell_type": "code",
      "metadata": {
        "id": "kJVAlukjvX_X",
        "colab_type": "code",
        "colab": {
          "base_uri": "https://localhost:8080/",
          "height": 134
        },
        "outputId": "4b57930a-965d-4c95-ef40-f401e6150e2a"
      },
      "source": [
        "# Python Program to count the number of lines in a text file. \n",
        "from google.colab import drive\n",
        "drive.mount('/content/gdrive')\n",
        "#Python Program to count the number of lines in a text file. \n",
        "file='/content/first.txt'\n",
        "num_lines = 0\n",
        "with open(file, 'r') as f:\n",
        " for line in f:\n",
        "   num_lines += 1\n",
        "   print(\"Number of lines:\")\n",
        "   print(num_lines)"
      ],
      "execution_count": 46,
      "outputs": [
        {
          "output_type": "stream",
          "text": [
            "Drive already mounted at /content/gdrive; to attempt to forcibly remount, call drive.mount(\"/content/gdrive\", force_remount=True).\n",
            "Number of lines:\n",
            "1\n",
            "Number of lines:\n",
            "2\n",
            "Number of lines:\n",
            "3\n"
          ],
          "name": "stdout"
        }
      ]
    },
    {
      "cell_type": "markdown",
      "metadata": {
        "id": "xEvTAkHxw5XJ",
        "colab_type": "text"
      },
      "source": [
        "**Python Program to count the number of words in a text file.**"
      ]
    },
    {
      "cell_type": "code",
      "metadata": {
        "id": "OF3yVBWSw7Dt",
        "colab_type": "code",
        "colab": {
          "base_uri": "https://localhost:8080/",
          "height": 168
        },
        "outputId": "d6647374-cc2e-4605-fa6d-7a0577f9200a"
      },
      "source": [
        "#Python Program to count the number of lines in a text file. \n",
        "file='/content/first.txt'\n",
        "num_words = 0\n",
        "with open(file, 'r') as f:\n",
        " for line in f:\n",
        "   words = line.split()\n",
        "   print(words)\n",
        "   num_words += len(words)\n",
        "   print(\"Number of words:\")\n",
        "   print(num_words)"
      ],
      "execution_count": 53,
      "outputs": [
        {
          "output_type": "stream",
          "text": [
            "['I', 'am', 'enjoying']\n",
            "Number of words:\n",
            "3\n",
            "['I', 'am', 'Learning']\n",
            "Number of words:\n",
            "6\n",
            "['I', 'am', 'Happy']\n",
            "Number of words:\n",
            "9\n"
          ],
          "name": "stdout"
        }
      ]
    },
    {
      "cell_type": "markdown",
      "metadata": {
        "id": "yejs7qOMGSCF",
        "colab_type": "text"
      },
      "source": [
        "**Python Program to count the occurrences of a word in a text file.**"
      ]
    },
    {
      "cell_type": "code",
      "metadata": {
        "id": "7M3MxsjzGYwO",
        "colab_type": "code",
        "colab": {
          "base_uri": "https://localhost:8080/",
          "height": 134
        },
        "outputId": "a4cb1355-3b44-4ed0-ab46-dc5d1a231a5b"
      },
      "source": [
        "fname = '/content/first.txt'\n",
        "word=input(\"Enter word to be searched:\")\n",
        "k = 0\n",
        "\n",
        "with open(fname, 'r') as f:\n",
        " for line in f:\n",
        "  words = line.split()\n",
        " for i in words:\n",
        "  if(i==word):\n",
        "   k=k+1\n",
        "  print(\"Occurrences of the word:\")\n",
        "  print(k)"
      ],
      "execution_count": 57,
      "outputs": [
        {
          "output_type": "stream",
          "text": [
            "Enter word to be searched:Happy\n",
            "Occurrences of the word:\n",
            "0\n",
            "Occurrences of the word:\n",
            "0\n",
            "Occurrences of the word:\n",
            "1\n"
          ],
          "name": "stdout"
        }
      ]
    },
    {
      "cell_type": "markdown",
      "metadata": {
        "id": "zKgVVhI6G4xW",
        "colab_type": "text"
      },
      "source": [
        "**Python Program to copy the contents of one file into another.**"
      ]
    },
    {
      "cell_type": "code",
      "metadata": {
        "id": "XauUV8ciG8-0",
        "colab_type": "code",
        "colab": {}
      },
      "source": [
        "file1 = '/content/first.txt'\n",
        "file2 = '/content/second.txt'\n",
        "\n",
        "with open(file1,'r') as f:\n",
        " with open(file2, \"w\") as f1:\n",
        "  for line in f:\n",
        "   f1.write(line)"
      ],
      "execution_count": 66,
      "outputs": []
    },
    {
      "cell_type": "markdown",
      "metadata": {
        "id": "bgzljxeBIo2r",
        "colab_type": "text"
      },
      "source": [
        "**Python Program to read the contents of the file in reverse order.**"
      ]
    },
    {
      "cell_type": "code",
      "metadata": {
        "id": "KBUJ7KrgIs6O",
        "colab_type": "code",
        "colab": {
          "base_uri": "https://localhost:8080/",
          "height": 67
        },
        "outputId": "30fad9ea-9562-48d1-ae7d-a59f48f652ba"
      },
      "source": [
        "file = '/content/first.txt'\n",
        "with open (file,'r') as f:\n",
        " for line in f:\n",
        "  l=line.split()\n",
        "  l.reverse() \n",
        "  st= \" \".join(l)\n",
        "  print (st)"
      ],
      "execution_count": 68,
      "outputs": [
        {
          "output_type": "stream",
          "text": [
            "enjoying am I\n",
            "Learning am I\n",
            "Happy am I\n"
          ],
          "name": "stdout"
        }
      ]
    }
  ]
}