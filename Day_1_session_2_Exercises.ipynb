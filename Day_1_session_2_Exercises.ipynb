{
  "nbformat": 4,
  "nbformat_minor": 0,
  "metadata": {
    "colab": {
      "name": "Day 1  session 2 Exercises.ipynb",
      "provenance": [],
      "authorship_tag": "ABX9TyOP/yyOkF8+oHUhfWTins2r",
      "include_colab_link": true
    },
    "kernelspec": {
      "name": "python3",
      "display_name": "Python 3"
    }
  },
  "cells": [
    {
      "cell_type": "markdown",
      "metadata": {
        "id": "view-in-github",
        "colab_type": "text"
      },
      "source": [
        "<a href=\"https://colab.research.google.com/github/spoortidaroji/Python_Workshop/blob/master/Day_1_session_2_Exercises.ipynb\" target=\"_parent\"><img src=\"https://colab.research.google.com/assets/colab-badge.svg\" alt=\"Open In Colab\"/></a>"
      ]
    },
    {
      "cell_type": "markdown",
      "metadata": {
        "id": "2cb2OUanXcAA",
        "colab_type": "text"
      },
      "source": [
        "**Write a program to print the triangle \n",
        "i/p  4\n",
        "\n",
        "1\n",
        "2    3\n",
        "3    4   5\n",
        "4    5   6   7\n",
        "**"
      ]
    },
    {
      "cell_type": "code",
      "metadata": {
        "id": "h6RtqLv7XGgU",
        "colab_type": "code",
        "colab": {
          "base_uri": "https://localhost:8080/",
          "height": 118
        },
        "outputId": "a253b836-bea1-4061-83c2-8bc150567ea5"
      },
      "source": [
        "\n",
        "n=int(input('Enter A  Number: '))\n",
        "count=0\n",
        " \n",
        "for j in range(0,n+1):\n",
        "    for i in range(0,j):\n",
        "        count=count+1\n",
        "        print(count,end=' ')\n",
        "    print('')\n",
        "    if count>1:\n",
        "        count=count-1"
      ],
      "execution_count": 1,
      "outputs": [
        {
          "output_type": "stream",
          "text": [
            "Enter A  Number: 4\n",
            "\n",
            "1 \n",
            "2 3 \n",
            "3 4 5 \n",
            "5 6 7 8 \n"
          ],
          "name": "stdout"
        }
      ]
    },
    {
      "cell_type": "markdown",
      "metadata": {
        "id": "0pQsUEUcaK36",
        "colab_type": "text"
      },
      "source": [
        "**Enter number 4\n",
        "\n",
        "*\n",
        "* *\n",
        "* * *\n",
        "* * * *\n",
        "**"
      ]
    },
    {
      "cell_type": "code",
      "metadata": {
        "id": "ziw_73wvaQXw",
        "colab_type": "code",
        "colab": {
          "base_uri": "https://localhost:8080/",
          "height": 84
        },
        "outputId": "98af1669-21ef-4647-a928-7919a2901355"
      },
      "source": [
        "def pypart(n): \n",
        "      \n",
        "    # outer loop to handle number of rows \n",
        "    # n in this case \n",
        "    for i in range(0, n): \n",
        "      \n",
        "        # inner loop to handle number of columns \n",
        "        # values changing acc. to outer loop \n",
        "        for j in range(0, i+1): \n",
        "          \n",
        "            # printing stars \n",
        "            print(\"*\",end=\"\") \n",
        "       \n",
        "        # ending line after each row \n",
        "        print(\"\\r\") \n",
        "  \n",
        "# Driver Code \n",
        "n = 4\n",
        "pypart(n) "
      ],
      "execution_count": 2,
      "outputs": [
        {
          "output_type": "stream",
          "text": [
            "*\r\n",
            "**\r\n",
            "***\r\n",
            "****\r\n"
          ],
          "name": "stdout"
        }
      ]
    },
    {
      "cell_type": "markdown",
      "metadata": {
        "id": "6Pfo_5tKad6r",
        "colab_type": "text"
      },
      "source": [
        "[link text](https:// [link text](https://))**Enter number 5\n",
        "\n",
        "5\n",
        "4 5\n",
        "3 4 5\n",
        "2 3 4 5\n",
        "1 2 3 4 5\n",
        "**"
      ]
    },
    {
      "cell_type": "code",
      "metadata": {
        "id": "xMq0_Vh6akNu",
        "colab_type": "code",
        "colab": {
          "base_uri": "https://localhost:8080/",
          "height": 134
        },
        "outputId": "46a30668-4c75-447e-b1df-d6a97fdba521"
      },
      "source": [
        "n=int(input('Enter A  Number: '))\n",
        "count=n\n",
        "for i in range(0,n+1):\n",
        "     for j in range(0,i):\n",
        "            print(count+1,end=' ')\n",
        "            count=count+1   \n",
        "     print('')\n",
        "     count=count-(i+1)"
      ],
      "execution_count": 3,
      "outputs": [
        {
          "output_type": "stream",
          "text": [
            "Enter A  Number: 5\n",
            "\n",
            "5 \n",
            "4 5 \n",
            "3 4 5 \n",
            "2 3 4 5 \n",
            "1 2 3 4 5 \n"
          ],
          "name": "stdout"
        }
      ]
    },
    {
      "cell_type": "markdown",
      "metadata": {
        "id": "tIERA_kH71Eg",
        "colab_type": "text"
      },
      "source": [
        "**Enter number 5\n",
        "\n",
        "5 4 3 2 1\n",
        "4 3 2 1\n",
        "3 2 1\n",
        "2 1\n",
        "1\n",
        "**\n"
      ]
    },
    {
      "cell_type": "code",
      "metadata": {
        "id": "RqGjLutx8Fv0",
        "colab_type": "code",
        "colab": {
          "base_uri": "https://localhost:8080/",
          "height": 118
        },
        "outputId": "b47c9207-0cf4-483e-9db2-10b5d3af4595"
      },
      "source": [
        "n=int(input('Enter A  Number: '))\n",
        "count=n\n",
        "for i in range(0,n,1):\n",
        "    for j in range(i,n):\n",
        "        print(count,end='')\n",
        "        count=count-1  \n",
        "    count=n-(i+1)\n",
        "    print('')"
      ],
      "execution_count": 5,
      "outputs": [
        {
          "output_type": "stream",
          "text": [
            "Enter A  Number: 5\n",
            "54321\n",
            "4321\n",
            "321\n",
            "21\n",
            "1\n"
          ],
          "name": "stdout"
        }
      ]
    },
    {
      "cell_type": "markdown",
      "metadata": {
        "id": "f6fEPNv1-17f",
        "colab_type": "text"
      },
      "source": [
        "**Enter number 4\n",
        "\n",
        "1 2 3 4\n",
        "2 3 4\n",
        "3 4\n",
        "4\n",
        "**\n",
        "\n"
      ]
    },
    {
      "cell_type": "code",
      "metadata": {
        "id": "uxw63Mwg8lwg",
        "colab_type": "code",
        "colab": {
          "base_uri": "https://localhost:8080/",
          "height": 101
        },
        "outputId": "8f74d192-0763-4561-b87b-68d71599fb9d"
      },
      "source": [
        "rows = 4\n",
        "for i in range(0, rows + 1, 1):\n",
        "    for j in range(i + 1, rows + 1, 1):\n",
        "        print(j, end=' ')\n",
        "    print()"
      ],
      "execution_count": 26,
      "outputs": [
        {
          "output_type": "stream",
          "text": [
            "1 2 3 4 \n",
            "2 3 4 \n",
            "3 4 \n",
            "4 \n",
            "\n"
          ],
          "name": "stdout"
        }
      ]
    },
    {
      "cell_type": "markdown",
      "metadata": {
        "id": "ECXTMKN971BL",
        "colab_type": "text"
      },
      "source": [
        "**Find the length of a string without using len functions**"
      ]
    },
    {
      "cell_type": "code",
      "metadata": {
        "id": "Vbdsa0cR8-x6",
        "colab_type": "code",
        "colab": {
          "base_uri": "https://localhost:8080/",
          "height": 50
        },
        "outputId": "150551d3-4fd3-4346-cdd5-a7729043e9f5"
      },
      "source": [
        "s=input('Enter The String: ')\n",
        "len=0\n",
        "for i in s:\n",
        "    len=len+1\n",
        "print('Length Of String Is: ',len)"
      ],
      "execution_count": 6,
      "outputs": [
        {
          "output_type": "stream",
          "text": [
            "Enter The String: Enjoy\n",
            "Length Of String Is:  5\n"
          ],
          "name": "stdout"
        }
      ]
    },
    {
      "cell_type": "markdown",
      "metadata": {
        "id": "2nSMgZ3W8tIr",
        "colab_type": "text"
      },
      "source": [
        "**Find the number of words and characters in a string** *italicised text*"
      ]
    },
    {
      "cell_type": "code",
      "metadata": {
        "id": "Vjn-8pOl9TAn",
        "colab_type": "code",
        "colab": {
          "base_uri": "https://localhost:8080/",
          "height": 67
        },
        "outputId": "b6a657f1-463d-4d25-9e97-b271cb3285f6"
      },
      "source": [
        "s=input('Enter Your String: ')\n",
        "p=s.split()\n",
        "len=0\n",
        "count=0\n",
        "for i in s:\n",
        "    if i!=' ':\n",
        "        len=len+1\n",
        "for j in p:\n",
        "    count=count+1\n",
        "print('Number Of Character In A String: ',len)\n",
        "print('Number Of Words In A String: ',count)"
      ],
      "execution_count": 7,
      "outputs": [
        {
          "output_type": "stream",
          "text": [
            "Enter Your String: An apple a day\n",
            "Number Of Character In A String:  11\n",
            "Number Of Words In A String:  4\n"
          ],
          "name": "stdout"
        }
      ]
    },
    {
      "cell_type": "markdown",
      "metadata": {
        "id": "wjMKlUDD98MB",
        "colab_type": "text"
      },
      "source": [
        "**Find the numbers of occurrences of a word in a string** **bold text**"
      ]
    },
    {
      "cell_type": "code",
      "metadata": {
        "id": "2rys6d-g-Aqr",
        "colab_type": "code",
        "colab": {
          "base_uri": "https://localhost:8080/",
          "height": 134
        },
        "outputId": "63774100-0e08-44b7-cdd5-ce242249df45"
      },
      "source": [
        "s=input('Enter A String: ')\n",
        "p=s.split()\n",
        "a=[]\n",
        "count=0\n",
        "for i in p:\n",
        "    if i not in a:\n",
        "        a.append(i)\n",
        "for i in a:\n",
        "    count=s.count(i)    \n",
        "    print(i,'Count Is: ',count)"
      ],
      "execution_count": 9,
      "outputs": [
        {
          "output_type": "stream",
          "text": [
            "Enter A String: Jhon plays games,Jhon helps her mother\n",
            "Jhon Count Is:  2\n",
            "plays Count Is:  1\n",
            "games,Jhon Count Is:  1\n",
            "helps Count Is:  1\n",
            "her Count Is:  2\n",
            "mother Count Is:  1\n"
          ],
          "name": "stdout"
        }
      ]
    }
  ]
}