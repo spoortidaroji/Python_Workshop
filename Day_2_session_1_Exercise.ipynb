{
  "nbformat": 4,
  "nbformat_minor": 0,
  "metadata": {
    "colab": {
      "name": "Day 2 session 1 Exercise.ipynb",
      "provenance": [],
      "authorship_tag": "ABX9TyN9tFNjDGKX7SYCC1zDZrG5",
      "include_colab_link": true
    },
    "kernelspec": {
      "name": "python3",
      "display_name": "Python 3"
    }
  },
  "cells": [
    {
      "cell_type": "markdown",
      "metadata": {
        "id": "view-in-github",
        "colab_type": "text"
      },
      "source": [
        "<a href=\"https://colab.research.google.com/github/spoortidaroji/Python_Workshop/blob/master/Day_2_session_1_Exercise.ipynb\" target=\"_parent\"><img src=\"https://colab.research.google.com/assets/colab-badge.svg\" alt=\"Open In Colab\"/></a>"
      ]
    },
    {
      "cell_type": "markdown",
      "metadata": {
        "id": "pLMQuJxaKGP8",
        "colab_type": "text"
      },
      "source": [
        "**List  exercises**"
      ]
    },
    {
      "cell_type": "markdown",
      "metadata": {
        "id": "DmRPX1rTK2OE",
        "colab_type": "text"
      },
      "source": [
        "**Python program to print multiples of 3 upto 200 using a list**"
      ]
    },
    {
      "cell_type": "code",
      "metadata": {
        "id": "qXXVzI6wJygW",
        "colab_type": "code",
        "colab": {
          "base_uri": "https://localhost:8080/",
          "height": 54
        },
        "outputId": "2f659c66-93f0-4dc1-d479-8b39e529b98b"
      },
      "source": [
        "list=[x for x in range(300) if x%3==0]\n",
        "print (list)"
      ],
      "execution_count": 1,
      "outputs": [
        {
          "output_type": "stream",
          "text": [
            "[0, 3, 6, 9, 12, 15, 18, 21, 24, 27, 30, 33, 36, 39, 42, 45, 48, 51, 54, 57, 60, 63, 66, 69, 72, 75, 78, 81, 84, 87, 90, 93, 96, 99, 102, 105, 108, 111, 114, 117, 120, 123, 126, 129, 132, 135, 138, 141, 144, 147, 150, 153, 156, 159, 162, 165, 168, 171, 174, 177, 180, 183, 186, 189, 192, 195, 198, 201, 204, 207, 210, 213, 216, 219, 222, 225, 228, 231, 234, 237, 240, 243, 246, 249, 252, 255, 258, 261, 264, 267, 270, 273, 276, 279, 282, 285, 288, 291, 294, 297]\n"
          ],
          "name": "stdout"
        }
      ]
    },
    {
      "cell_type": "markdown",
      "metadata": {
        "id": "EQ2knjHJ8e0Z",
        "colab_type": "text"
      },
      "source": [
        "**Print the nos only divisable by 5 and 7 between 1000 and 2000 using a list( both inclusive)**"
      ]
    },
    {
      "cell_type": "code",
      "metadata": {
        "id": "Iwvpzwnv8kxy",
        "colab_type": "code",
        "colab": {
          "base_uri": "https://localhost:8080/",
          "height": 34
        },
        "outputId": "43a63227-96da-4f99-dbc8-5a2ec1eacefb"
      },
      "source": [
        "list=[x for x in range(1000,2000) if x%5==0 and x%7==0]\n",
        "print(list)"
      ],
      "execution_count": 3,
      "outputs": [
        {
          "output_type": "stream",
          "text": [
            "[1015, 1050, 1085, 1120, 1155, 1190, 1225, 1260, 1295, 1330, 1365, 1400, 1435, 1470, 1505, 1540, 1575, 1610, 1645, 1680, 1715, 1750, 1785, 1820, 1855, 1890, 1925, 1960, 1995]\n"
          ],
          "name": "stdout"
        }
      ]
    },
    {
      "cell_type": "markdown",
      "metadata": {
        "id": "oPTnkjwX9FvH",
        "colab_type": "text"
      },
      "source": [
        "**Add the n number of names in a list and print them alphabetically and reverse alphabetically**"
      ]
    },
    {
      "cell_type": "code",
      "metadata": {
        "id": "3hAZ8FzE9LOo",
        "colab_type": "code",
        "colab": {
          "base_uri": "https://localhost:8080/",
          "height": 50
        },
        "outputId": "58bfc756-6beb-4f97-d8cf-1419a9ebacdf"
      },
      "source": [
        "names=['Pooja','Jhon','Joy','Moni','Shri','Sonu']\n",
        "names.sort()\n",
        "print('Names in alphabetical order: ',names)\n",
        "names.sort(reverse=True)\n",
        "print('Names in reverse alphabetical order: ',names)"
      ],
      "execution_count": 9,
      "outputs": [
        {
          "output_type": "stream",
          "text": [
            "Names in alphabetical order:  ['Jhon', 'Joy', 'Moni', 'Pooja', 'Shri', 'Sonu']\n",
            "Names in reverse alphabetical order:  ['Sonu', 'Shri', 'Pooja', 'Moni', 'Joy', 'Jhon']\n"
          ],
          "name": "stdout"
        }
      ]
    },
    {
      "cell_type": "markdown",
      "metadata": {
        "id": "kTbTbjRf-wNG",
        "colab_type": "text"
      },
      "source": [
        "**Print  perfect squares and divisible by 5 between 500 and 1000( (both inclusive) using list**"
      ]
    },
    {
      "cell_type": "code",
      "metadata": {
        "id": "FVlKxoeD-1Sk",
        "colab_type": "code",
        "colab": {
          "base_uri": "https://localhost:8080/",
          "height": 34
        },
        "outputId": "8ebdfa8d-d3dc-47e8-a531-55bd28ce75b0"
      },
      "source": [
        "import math\n",
        "List=[]\n",
        "for x in range(500,1000):\n",
        "    root=math.sqrt(x)\n",
        "    if int(root+0.5)**2==x:\n",
        "        if x%5==0:\n",
        "            List.append(x)\n",
        "print(List)"
      ],
      "execution_count": 12,
      "outputs": [
        {
          "output_type": "stream",
          "text": [
            "[625, 900]\n"
          ],
          "name": "stdout"
        }
      ]
    },
    {
      "cell_type": "markdown",
      "metadata": {
        "id": "pCgBgxGf_d3u",
        "colab_type": "text"
      },
      "source": [
        "**Calculate the Average of  the numbers in a List by getting the elements of list from keyboard.**"
      ]
    },
    {
      "cell_type": "code",
      "metadata": {
        "id": "n6U84RVE_kUZ",
        "colab_type": "code",
        "colab": {
          "base_uri": "https://localhost:8080/",
          "height": 151
        },
        "outputId": "d0e9addf-c895-45c8-d8d8-03eae1f0a0bd"
      },
      "source": [
        "import numpy as np\n",
        "List=[]\n",
        "num=int(input(\"Enter the number of elements\"))\n",
        "print('Enter the elements: ')\n",
        "for i in range(num):\n",
        "  List.append(int(input()))\n",
        "print('Average Of The Numbers Is: ',np.mean(List))  "
      ],
      "execution_count": 15,
      "outputs": [
        {
          "output_type": "stream",
          "text": [
            "Enter the number of elements5\n",
            "Enter the elements: \n",
            "5\n",
            "9\n",
            "22\n",
            "88\n",
            "15\n",
            "Average Of The Numbers Is:  27.8\n"
          ],
          "name": "stdout"
        }
      ]
    },
    {
      "cell_type": "markdown",
      "metadata": {
        "id": "pSQOGqqaA-Xj",
        "colab_type": "text"
      },
      "source": [
        "**Print lists of odd,even and multiples of 5 numbers from 1 to 1000 using list comprehension**"
      ]
    },
    {
      "cell_type": "code",
      "metadata": {
        "id": "Ea0kwd4wBEwy",
        "colab_type": "code",
        "colab": {
          "base_uri": "https://localhost:8080/",
          "height": 54
        },
        "outputId": "c7ec06a8-2e9a-4536-cfb0-8a87baf8b7c4"
      },
      "source": [
        "List=[x for x in range(1,1000) if ((x%2==0 or x%2!=0) and (x%5==0))]\n",
        "print(List)"
      ],
      "execution_count": 19,
      "outputs": [
        {
          "output_type": "stream",
          "text": [
            "[5, 10, 15, 20, 25, 30, 35, 40, 45, 50, 55, 60, 65, 70, 75, 80, 85, 90, 95, 100, 105, 110, 115, 120, 125, 130, 135, 140, 145, 150, 155, 160, 165, 170, 175, 180, 185, 190, 195, 200, 205, 210, 215, 220, 225, 230, 235, 240, 245, 250, 255, 260, 265, 270, 275, 280, 285, 290, 295, 300, 305, 310, 315, 320, 325, 330, 335, 340, 345, 350, 355, 360, 365, 370, 375, 380, 385, 390, 395, 400, 405, 410, 415, 420, 425, 430, 435, 440, 445, 450, 455, 460, 465, 470, 475, 480, 485, 490, 495, 500, 505, 510, 515, 520, 525, 530, 535, 540, 545, 550, 555, 560, 565, 570, 575, 580, 585, 590, 595, 600, 605, 610, 615, 620, 625, 630, 635, 640, 645, 650, 655, 660, 665, 670, 675, 680, 685, 690, 695, 700, 705, 710, 715, 720, 725, 730, 735, 740, 745, 750, 755, 760, 765, 770, 775, 780, 785, 790, 795, 800, 805, 810, 815, 820, 825, 830, 835, 840, 845, 850, 855, 860, 865, 870, 875, 880, 885, 890, 895, 900, 905, 910, 915, 920, 925, 930, 935, 940, 945, 950, 955, 960, 965, 970, 975, 980, 985, 990, 995]\n"
          ],
          "name": "stdout"
        }
      ]
    },
    {
      "cell_type": "markdown",
      "metadata": {
        "id": "oj3FFjhfByKb",
        "colab_type": "text"
      },
      "source": [
        "**Tuples Exercise**"
      ]
    },
    {
      "cell_type": "markdown",
      "metadata": {
        "id": "yLigkwWeB_UA",
        "colab_type": "text"
      },
      "source": [
        "**Python Program to Create a List of Tuples with the First Element as the Number and Second Element as the Square of the Number**"
      ]
    },
    {
      "cell_type": "code",
      "metadata": {
        "id": "E1NS0JBMB-Dl",
        "colab_type": "code",
        "colab": {
          "base_uri": "https://localhost:8080/",
          "height": 67
        },
        "outputId": "8cef76d6-5ed3-49c7-cac2-7dcb3ba31649"
      },
      "source": [
        "List=[(x,x**2) for x in range(int(input('Enter Lower Rnaage: ')),int(input('Enter Upper Range: ')))]\n",
        "print(List)2"
      ],
      "execution_count": 20,
      "outputs": [
        {
          "output_type": "stream",
          "text": [
            "Enter Lower Rnaage: 2\n",
            "Enter Upper Range: 6\n",
            "[(2, 4), (3, 9), (4, 16), (5, 25)]\n"
          ],
          "name": "stdout"
        }
      ]
    },
    {
      "cell_type": "markdown",
      "metadata": {
        "id": "WFyKEqhgCUSd",
        "colab_type": "text"
      },
      "source": [
        "**Write python program to have a list of words  to sort them from  shortest to longest using list of tuples**"
      ]
    },
    {
      "cell_type": "code",
      "metadata": {
        "id": "nXJUWSvoCdqM",
        "colab_type": "code",
        "colab": {
          "base_uri": "https://localhost:8080/",
          "height": 34
        },
        "outputId": "5b6fe12b-97c4-49d5-fcab-b5eef24e8aef"
      },
      "source": [
        "txt = 'but soft what light in yonder window breaks'\n",
        "words = txt.split()\n",
        "t = []\n",
        "for word in words:\n",
        "   t.append((len(word), word))\n",
        "t.sort(reverse=False)\n",
        " \n",
        "res = []\n",
        "for length, word in t:\n",
        "    res.append(word)\n",
        " \n",
        "print(res)"
      ],
      "execution_count": 21,
      "outputs": [
        {
          "output_type": "stream",
          "text": [
            "['in', 'but', 'soft', 'what', 'light', 'breaks', 'window', 'yonder']\n"
          ],
          "name": "stdout"
        }
      ]
    },
    {
      "cell_type": "markdown",
      "metadata": {
        "id": "QDj_96EqCshb",
        "colab_type": "text"
      },
      "source": [
        "**Write python program to get a list of tuples of Rollno,Name for 5 students through keyboard and sort them Rollno wise ascending order**"
      ]
    },
    {
      "cell_type": "code",
      "metadata": {
        "id": "6pegEz87C7Xy",
        "colab_type": "code",
        "colab": {
          "base_uri": "https://localhost:8080/",
          "height": 202
        },
        "outputId": "2508b39b-4205-4bb6-d4a3-79bf1512525a"
      },
      "source": [
        "List=[]\n",
        "for i in range(0,5):\n",
        "    usn=input('Enter RollNumber: ')\n",
        "    name=input('Enter Student Name: ')\n",
        "    List.append((name,usn))\n",
        " \n",
        "print(sorted(List, key = lambda x: x[1]))"
      ],
      "execution_count": 22,
      "outputs": [
        {
          "output_type": "stream",
          "text": [
            "Enter RollNumber: 565\n",
            "Enter Student Name: Jhon\n",
            "Enter RollNumber: 589\n",
            "Enter Student Name: Joy\n",
            "Enter RollNumber: 987\n",
            "Enter Student Name: Tom\n",
            "Enter RollNumber: 877\n",
            "Enter Student Name: Joe\n",
            "Enter RollNumber: 888\n",
            "Enter Student Name: Pooh\n",
            "[('Jhon', '565'), ('Joy', '589'), ('Joe', '877'), ('Pooh', '888'), ('Tom', '987')]\n"
          ],
          "name": "stdout"
        }
      ]
    },
    {
      "cell_type": "markdown",
      "metadata": {
        "id": "b1d1p34sEQ84",
        "colab_type": "text"
      },
      "source": [
        "**Write python program to get a list of tuples of Rollno,Name for 5 students through keyboard and sort them by Name wise ascending order**"
      ]
    },
    {
      "cell_type": "code",
      "metadata": {
        "id": "RyXuZWCREX_h",
        "colab_type": "code",
        "colab": {
          "base_uri": "https://localhost:8080/",
          "height": 202
        },
        "outputId": "33ab5486-723b-4b29-df8d-48733faf4ebe"
      },
      "source": [
        " List=[]\n",
        "for i in range(0,5):\n",
        "    usn=input('Enter RollNumber: ')\n",
        "    name=input('Enter Student Name: ')\n",
        "    List.append((usn,name))\n",
        " \n",
        "print(sorted(List, key= lambda x: x[1]))"
      ],
      "execution_count": 24,
      "outputs": [
        {
          "output_type": "stream",
          "text": [
            "Enter RollNumber: 565\n",
            "Enter Student Name: Jhon\n",
            "Enter RollNumber: 589\n",
            "Enter Student Name: Joy\n",
            "Enter RollNumber: 987\n",
            "Enter Student Name: Tom\n",
            "Enter RollNumber: 877\n",
            "Enter Student Name: Joe\n",
            "Enter RollNumber: 888\n",
            "Enter Student Name: Pooh\n",
            "[('565', 'Jhon'), ('877', 'Joe'), ('589', 'Joy'), ('888', 'Pooh'), ('987', 'Tom')]\n"
          ],
          "name": "stdout"
        }
      ]
    }
  ]
}