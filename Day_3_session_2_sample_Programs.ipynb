{
  "nbformat": 4,
  "nbformat_minor": 0,
  "metadata": {
    "colab": {
      "name": "Day 3 session 2 sample Programs.ipynb",
      "provenance": [],
      "authorship_tag": "ABX9TyPNicCGUn3cnr4fK4GIENP1",
      "include_colab_link": true
    },
    "kernelspec": {
      "name": "python3",
      "display_name": "Python 3"
    }
  },
  "cells": [
    {
      "cell_type": "markdown",
      "metadata": {
        "id": "view-in-github",
        "colab_type": "text"
      },
      "source": [
        "<a href=\"https://colab.research.google.com/github/spoortidaroji/Python_Workshop/blob/master/Day_3_session_2_sample_Programs.ipynb\" target=\"_parent\"><img src=\"https://colab.research.google.com/assets/colab-badge.svg\" alt=\"Open In Colab\"/></a>"
      ]
    },
    {
      "cell_type": "markdown",
      "metadata": {
        "id": "z9u-gAXdXNFm",
        "colab_type": "text"
      },
      "source": [
        "**Finding the factorial of a number**"
      ]
    },
    {
      "cell_type": "code",
      "metadata": {
        "id": "lxr2Mh-QXBUC",
        "colab_type": "code",
        "colab": {
          "base_uri": "https://localhost:8080/",
          "height": 67
        },
        "outputId": "5643d9f8-d510-4014-ca24-6838def237f6"
      },
      "source": [
        "#Python Program to find the factorial of a number using loop. \n",
        "n=int(input(\"Enter number:\"))\n",
        "fact=1\n",
        "while(n>0):\n",
        "    fact=fact*n\n",
        "    n=n-1\n",
        "print(\"Factorial of the number is: \")\n",
        "print(fact)"
      ],
      "execution_count": 1,
      "outputs": [
        {
          "output_type": "stream",
          "text": [
            "Enter number:4\n",
            "Factorial of the number is: \n",
            "24\n"
          ],
          "name": "stdout"
        }
      ]
    },
    {
      "cell_type": "markdown",
      "metadata": {
        "id": "f62DijnlBfwR",
        "colab_type": "text"
      },
      "source": [
        "** Program for multiples of 2 of a list without list comprehension**"
      ]
    },
    {
      "cell_type": "code",
      "metadata": {
        "id": "kx5z0NZzBpIj",
        "colab_type": "code",
        "colab": {
          "base_uri": "https://localhost:8080/",
          "height": 34
        },
        "outputId": "8757077b-5504-4b8c-c72d-655b26a5841d"
      },
      "source": [
        " x=[1, 2, 3, 4, 5, 6]\n",
        "result = []\n",
        "for idx in range(len(x)):\n",
        "  result.append(x[idx] * 2)\n",
        "print(result)"
      ],
      "execution_count": 2,
      "outputs": [
        {
          "output_type": "stream",
          "text": [
            "[2, 4, 6, 8, 10, 12]\n"
          ],
          "name": "stdout"
        }
      ]
    },
    {
      "cell_type": "markdown",
      "metadata": {
        "id": "uCEqWJnMBwwM",
        "colab_type": "text"
      },
      "source": [
        "** Single line program of Pythonic coding**"
      ]
    },
    {
      "cell_type": "code",
      "metadata": {
        "id": "vNHLF2G0B2gz",
        "colab_type": "code",
        "colab": {
          "base_uri": "https://localhost:8080/",
          "height": 34
        },
        "outputId": "779da339-d3a1-4a4e-ffdb-cdd1e1f368d6"
      },
      "source": [
        " print([i*2 for i in [1, 2, 3, 4, 5, 6] ])"
      ],
      "execution_count": 3,
      "outputs": [
        {
          "output_type": "stream",
          "text": [
            "[2, 4, 6, 8, 10, 12]\n"
          ],
          "name": "stdout"
        }
      ]
    },
    {
      "cell_type": "markdown",
      "metadata": {
        "id": "UVjMID6_B6Kz",
        "colab_type": "text"
      },
      "source": [
        "** More Pythonic program of 3 lines!**\n"
      ]
    },
    {
      "cell_type": "code",
      "metadata": {
        "id": "3M1_TZFlCAgT",
        "colab_type": "code",
        "colab": {
          "base_uri": "https://localhost:8080/",
          "height": 50
        },
        "outputId": "db138275-37df-442a-d717-aa205ef16641"
      },
      "source": [
        "from functools import reduce\n",
        "sequences = [x for x in range(1,int(input('Enter no: '))+1)]\n",
        "product = reduce(lambda x, y: x*y, sequences)\n",
        "print(product)"
      ],
      "execution_count": 4,
      "outputs": [
        {
          "output_type": "stream",
          "text": [
            "Enter no: 6\n",
            "720\n"
          ],
          "name": "stdout"
        }
      ]
    },
    {
      "cell_type": "markdown",
      "metadata": {
        "id": "-p-BGc0fCKWG",
        "colab_type": "text"
      },
      "source": [
        "**Number and its square as Tuple for a range**"
      ]
    },
    {
      "cell_type": "code",
      "metadata": {
        "id": "lrxKJaV0CTRN",
        "colab_type": "code",
        "colab": {
          "base_uri": "https://localhost:8080/",
          "height": 67
        },
        "outputId": "9bcb2721-9e53-4758-b7e7-9499c7cd7e80"
      },
      "source": [
        "l_range=int(input(\"Enter the lower range:\"))\n",
        "u_range=int(input(\"Enter the upper range:\"))\n",
        "a=[(x,x**2) for x in range(l_range,u_range+1)]\n",
        "print(a)"
      ],
      "execution_count": 5,
      "outputs": [
        {
          "output_type": "stream",
          "text": [
            "Enter the lower range:1\n",
            "Enter the upper range:9\n",
            "[(1, 1), (2, 4), (3, 9), (4, 16), (5, 25), (6, 36), (7, 49), (8, 64), (9, 81)]\n"
          ],
          "name": "stdout"
        }
      ]
    },
    {
      "cell_type": "markdown",
      "metadata": {
        "id": "Uz7r5hOyCbRF",
        "colab_type": "text"
      },
      "source": [
        "** The most Pythonic program of a sinle line program is given below**"
      ]
    },
    {
      "cell_type": "code",
      "metadata": {
        "id": "4hZ98jupCfME",
        "colab_type": "code",
        "colab": {
          "base_uri": "https://localhost:8080/",
          "height": 67
        },
        "outputId": "b5c8ef25-4566-4728-b5e0-653a6f68434a"
      },
      "source": [
        " print([(x,x**2) for x in range(int(input(\"Enter the lower range:\")),\\\n",
        "                           int(input(\"Enter the upper range:\"))+1)])"
      ],
      "execution_count": 6,
      "outputs": [
        {
          "output_type": "stream",
          "text": [
            "Enter the lower range:0\n",
            "Enter the upper range:3\n",
            "[(0, 0), (1, 1), (2, 4), (3, 9)]\n"
          ],
          "name": "stdout"
        }
      ]
    },
    {
      "cell_type": "markdown",
      "metadata": {
        "id": "e6UcjqpOCl77",
        "colab_type": "text"
      },
      "source": [
        "**Finding the perfect squares**"
      ]
    },
    {
      "cell_type": "code",
      "metadata": {
        "id": "F34yqrgfCsbh",
        "colab_type": "code",
        "colab": {
          "base_uri": "https://localhost:8080/",
          "height": 34
        },
        "outputId": "a28f7bc0-39e6-4d65-83b5-41909c6f63e2"
      },
      "source": [
        "from math import *\n",
        "sequences = [10,2,8,7,5,4,3,11,0,9,16,1]\n",
        "result=[]\n",
        "for i in sequences:\n",
        "  if int(sqrt(i))**2==i:\n",
        "    result.append(i)\n",
        "print(result)"
      ],
      "execution_count": 7,
      "outputs": [
        {
          "output_type": "stream",
          "text": [
            "[4, 0, 9, 16, 1]\n"
          ],
          "name": "stdout"
        }
      ]
    },
    {
      "cell_type": "markdown",
      "metadata": {
        "id": "hFTEW3a5C3fs",
        "colab_type": "text"
      },
      "source": [
        "** Pythonic program of 3 lines!**"
      ]
    },
    {
      "cell_type": "code",
      "metadata": {
        "id": "494G02S2C6bQ",
        "colab_type": "code",
        "colab": {
          "base_uri": "https://localhost:8080/",
          "height": 34
        },
        "outputId": "63b980d9-be1d-4f15-a304-062b5346cab3"
      },
      "source": [
        "sequences = [10,2,8,7,5,4,3,11,0,9,16,1]\n",
        "filtered_result = filter(lambda x: int(sqrt(x))**2==x, sequences) \n",
        "print(list(filtered_result))"
      ],
      "execution_count": 8,
      "outputs": [
        {
          "output_type": "stream",
          "text": [
            "[4, 0, 9, 16, 1]\n"
          ],
          "name": "stdout"
        }
      ]
    },
    {
      "cell_type": "markdown",
      "metadata": {
        "id": "qf1tjX_kDCaB",
        "colab_type": "text"
      },
      "source": [
        "** Program to find the largest number in the list**"
      ]
    },
    {
      "cell_type": "code",
      "metadata": {
        "id": "LDxxOxfIDHwo",
        "colab_type": "code",
        "colab": {
          "base_uri": "https://localhost:8080/",
          "height": 134
        },
        "outputId": "54347b4e-ba71-4011-c740-f078186a8178"
      },
      "source": [
        "a=[]\n",
        "n=int(input(\"Enter number of elements:\"))\n",
        "for i in range(1,n+1):\n",
        "    b=int(input(\"Enter element:\"))\n",
        "    a.append(b)\n",
        "a.sort()\n",
        "print(\"Largest element is:\",a[n-1])"
      ],
      "execution_count": 9,
      "outputs": [
        {
          "output_type": "stream",
          "text": [
            "Enter number of elements:5\n",
            "Enter element:4\n",
            "Enter element:8\n",
            "Enter element:5\n",
            "Enter element:22\n",
            "Enter element:0\n",
            "Largest element is: 22\n"
          ],
          "name": "stdout"
        }
      ]
    },
    {
      "cell_type": "markdown",
      "metadata": {
        "id": "hhZJUkE5DT38",
        "colab_type": "text"
      },
      "source": [
        "** Try this More pythonic 2 lines program equivalent to above codings as shown below !**"
      ]
    },
    {
      "cell_type": "code",
      "metadata": {
        "id": "_rHEwpnXDYkQ",
        "colab_type": "code",
        "colab": {
          "base_uri": "https://localhost:8080/",
          "height": 84
        },
        "outputId": "d0c02339-58d4-41c5-815e-27c72c81e92b"
      },
      "source": [
        "x=0\n",
        "print('The greatest no is',max([int(input(x)) for _ in range(int(input(\"Enter no\")))]))"
      ],
      "execution_count": 11,
      "outputs": [
        {
          "output_type": "stream",
          "text": [
            "Enter no2\n",
            "56\n",
            "65\n",
            "The greatest no is 65\n"
          ],
          "name": "stdout"
        }
      ]
    },
    {
      "cell_type": "markdown",
      "metadata": {
        "id": "tFJus_0oDqiF",
        "colab_type": "text"
      },
      "source": [
        "**Program to put the even and odd elements in a list into two different lists.**"
      ]
    },
    {
      "cell_type": "code",
      "metadata": {
        "id": "xtahsDw-DwbI",
        "colab_type": "code",
        "colab": {
          "base_uri": "https://localhost:8080/",
          "height": 134
        },
        "outputId": "d2d663d9-3092-4784-9050-5833d14de0d6"
      },
      "source": [
        "a=[]\n",
        "n=int(input(\"Enter number of elements:\"))\n",
        "for i in range(1,n+1):\n",
        "    b=int(input(\"Enter element:\"))\n",
        "    a.append(b)\n",
        "even=[]\n",
        "odd=[]\n",
        "for j in a:\n",
        "    if(j%2==0):\n",
        "        even.append(j)\n",
        "    else:\n",
        "        odd.append(j)\n",
        "print(\"The even list\",even)\n",
        "print(\"The odd list\",odd)"
      ],
      "execution_count": 12,
      "outputs": [
        {
          "output_type": "stream",
          "text": [
            "Enter number of elements:4\n",
            "Enter element:22\n",
            "Enter element:33\n",
            "Enter element:44\n",
            "Enter element:66\n",
            "The even list [22, 44, 66]\n",
            "The odd list [33]\n"
          ],
          "name": "stdout"
        }
      ]
    },
    {
      "cell_type": "markdown",
      "metadata": {
        "id": "fs8LPmNID6up",
        "colab_type": "text"
      },
      "source": [
        "**Instead of forementioned 14 lines program, the equivalent 4 lines !\n",
        "Pythonic program is here ....**"
      ]
    },
    {
      "cell_type": "code",
      "metadata": {
        "id": "ley8XLlKD_uR",
        "colab_type": "code",
        "colab": {
          "base_uri": "https://localhost:8080/",
          "height": 151
        },
        "outputId": "99bda7dc-d746-4a0f-8f1b-c74d056f5056"
      },
      "source": [
        "x=0\n",
        "l=[int(input(x)) for _ in range(int(input(\"Enter n\")))]\n",
        "print('odd list is',[ i for i in l if i%2])\n",
        "print('even list is',[i for i in l if not i%2])"
      ],
      "execution_count": 13,
      "outputs": [
        {
          "output_type": "stream",
          "text": [
            "Enter n5\n",
            "5\n",
            "9\n",
            "4\n",
            "2\n",
            "0\n",
            "odd list is [5, 9]\n",
            "even list is [4, 2, 0]\n"
          ],
          "name": "stdout"
        }
      ]
    },
    {
      "cell_type": "markdown",
      "metadata": {
        "id": "oxiN43syEKj3",
        "colab_type": "text"
      },
      "source": [
        "**Python Program to merge two lists and sort it.**"
      ]
    },
    {
      "cell_type": "code",
      "metadata": {
        "id": "uPPOVJMREQaG",
        "colab_type": "code",
        "colab": {
          "base_uri": "https://localhost:8080/",
          "height": 218
        },
        "outputId": "67935ea4-7e24-4876-c586-54b8c392edea"
      },
      "source": [
        "a=[]\n",
        "c=[]\n",
        "n1=int(input(\"Enter number of elements:\"))\n",
        "for i in range(1,n1+1):\n",
        "    b=int(input(\"Enter element:\"))\n",
        "    a.append(b)\n",
        "n2=int(input(\"Enter number of elements:\"))\n",
        "for i in range(1,n2+1):\n",
        "    d=int(input(\"Enter element:\"))\n",
        "    c.append(d)\n",
        "new=a+c\n",
        "new.sort()\n",
        "print(\"Sorted list is:\",new)"
      ],
      "execution_count": 14,
      "outputs": [
        {
          "output_type": "stream",
          "text": [
            "Enter number of elements:5\n",
            "Enter element:8\n",
            "Enter element:9\n",
            "Enter element:7\n",
            "Enter element:10\n",
            "Enter element:5\n",
            "Enter number of elements:4\n",
            "Enter element:7\n",
            "Enter element:22\n",
            "Enter element:10\n",
            "Enter element:33\n",
            "Sorted list is: [5, 7, 7, 8, 9, 10, 10, 22, 33]\n"
          ],
          "name": "stdout"
        }
      ]
    },
    {
      "cell_type": "markdown",
      "metadata": {
        "id": "SvUfMBQLEfIu",
        "colab_type": "text"
      },
      "source": [
        "**Instead of forementioned 13 lines program, the equivalent 5 lines !**"
      ]
    },
    {
      "cell_type": "code",
      "metadata": {
        "id": "ffDCyWlKEmP6",
        "colab_type": "code",
        "colab": {
          "base_uri": "https://localhost:8080/",
          "height": 252
        },
        "outputId": "888933a2-d69d-4bf0-fc62-cf80771ad556"
      },
      "source": [
        "x=0\n",
        "l=[int(input(x)) for _ in range(int(input(\"Enter how many elements\")))]\n",
        "m=[int(input(x)) for _ in range(int(input(\"Enter how many elements \")))]\n",
        "new=l+m\n",
        "new.sort()\n",
        "print(\"Sorted list is:\",new)"
      ],
      "execution_count": 15,
      "outputs": [
        {
          "output_type": "stream",
          "text": [
            "Enter how many elements6\n",
            "1\n",
            "5\n",
            "16\n",
            "24\n",
            "07\n",
            "20\n",
            "Enter how many elements 5\n",
            "3\n",
            "2\n",
            "6\n",
            "26\n",
            "11\n",
            "Sorted list is: [1, 2, 3, 5, 6, 7, 11, 16, 20, 24, 26]\n"
          ],
          "name": "stdout"
        }
      ]
    },
    {
      "cell_type": "markdown",
      "metadata": {
        "id": "SJgXMW1SE7RF",
        "colab_type": "text"
      },
      "source": [
        "**Python Program to sort the list according to the second element in the sublist.**"
      ]
    },
    {
      "cell_type": "code",
      "metadata": {
        "id": "T3Ghz4NkFA8T",
        "colab_type": "code",
        "colab": {
          "base_uri": "https://localhost:8080/",
          "height": 34
        },
        "outputId": "b16c7bd5-8f70-4061-f72a-ab74a374b398"
      },
      "source": [
        "a=[['A',34],['B',21],['C',26],['E',29]]\n",
        "for i in range(0,len(a)):\n",
        "    for j in range(i+1,len(a)):\n",
        "        if(a[i][1]>a[j][1]):\n",
        "            temp=a[j]\n",
        "            a[j]=a[i]\n",
        "            a[i]=temp\n",
        "print(a)"
      ],
      "execution_count": 16,
      "outputs": [
        {
          "output_type": "stream",
          "text": [
            "[['B', 21], ['C', 26], ['E', 29], ['A', 34]]\n"
          ],
          "name": "stdout"
        }
      ]
    },
    {
      "cell_type": "markdown",
      "metadata": {
        "id": "CkDlPKDBFGgN",
        "colab_type": "text"
      },
      "source": [
        "**Instead of forementioned 8 lines program, the equivalent 3 lines !**"
      ]
    },
    {
      "cell_type": "code",
      "metadata": {
        "id": "DeMTE_e7FKuA",
        "colab_type": "code",
        "colab": {
          "base_uri": "https://localhost:8080/",
          "height": 34
        },
        "outputId": "bebf80fa-a708-43a2-d982-515bba16485b"
      },
      "source": [
        "a=[['A',34],['B',21],['C',26],['E',29]]\n",
        "a.sort(key = lambda x: x[1]) \n",
        "print(a)"
      ],
      "execution_count": 17,
      "outputs": [
        {
          "output_type": "stream",
          "text": [
            "[['B', 21], ['C', 26], ['E', 29], ['A', 34]]\n"
          ],
          "name": "stdout"
        }
      ]
    },
    {
      "cell_type": "markdown",
      "metadata": {
        "id": "152SfE4cFOem",
        "colab_type": "text"
      },
      "source": [
        "**Program to find second largest elment in the list**"
      ]
    },
    {
      "cell_type": "code",
      "metadata": {
        "id": "5gqiX7O8FUBI",
        "colab_type": "code",
        "colab": {
          "base_uri": "https://localhost:8080/",
          "height": 118
        },
        "outputId": "6fd001a7-299c-4e13-9c4b-e31676d6cee7"
      },
      "source": [
        "a=[]\n",
        "n=int(input(\"Enter number of elements:\"))\n",
        "for i in range(1,n+1):\n",
        "    b=int(input(\"Enter element:\"))\n",
        "    a.append(b)\n",
        "for i in range(0,len(a)):\n",
        "    for j in range(0,len(a)-i-1):\n",
        "        if(a[j]>a[j+1]):\n",
        "            temp=a[j]\n",
        "            a[j]=a[j+1]\n",
        "            a[j+1]=temp \n",
        "print('Second largest number is:',a[n-2])"
      ],
      "execution_count": 18,
      "outputs": [
        {
          "output_type": "stream",
          "text": [
            "Enter number of elements:4\n",
            "Enter element:22\n",
            "Enter element:31\n",
            "Enter element:11\n",
            "Enter element:10\n",
            "Second largest number is: 22\n"
          ],
          "name": "stdout"
        }
      ]
    },
    {
      "cell_type": "markdown",
      "metadata": {
        "id": "NXhq8UTZFdoE",
        "colab_type": "text"
      },
      "source": [
        "**Instead of forementioned 12 lines program, the equivalent 4 lines progam !**"
      ]
    },
    {
      "cell_type": "code",
      "metadata": {
        "id": "r8cyO9hoFi4b",
        "colab_type": "code",
        "colab": {
          "base_uri": "https://localhost:8080/",
          "height": 101
        },
        "outputId": "4765641b-6335-4117-8518-ff0007056a20"
      },
      "source": [
        "x=0\n",
        "l=[int(input(x)) for _ in range(int(input(\"Enter how many elements\")))]\n",
        "l.sort()\n",
        "print(\"Second largest element is :\",l[-2])"
      ],
      "execution_count": 19,
      "outputs": [
        {
          "output_type": "stream",
          "text": [
            "Enter how many elements3\n",
            "56\n",
            "12\n",
            "23\n",
            "Second largest element is : 23\n"
          ],
          "name": "stdout"
        }
      ]
    },
    {
      "cell_type": "markdown",
      "metadata": {
        "id": "S4B9U729FqQN",
        "colab_type": "text"
      },
      "source": [
        "**Program to create a list of tuples with the first element as number and second Elements is its square**"
      ]
    },
    {
      "cell_type": "code",
      "metadata": {
        "id": "mcxN8Ym9FvKg",
        "colab_type": "code",
        "colab": {
          "base_uri": "https://localhost:8080/",
          "height": 87
        },
        "outputId": "a18f464e-7762-4851-8f2e-2f1bfd357bf0"
      },
      "source": [
        "l_range=int(input(\"Enter the lower range:\"))\n",
        "u_range=int(input(\"Enter the upper range:\"))\n",
        "a=[(x,x**2) for x in range(l_range,u_range+1)]\n",
        "print(a)"
      ],
      "execution_count": 20,
      "outputs": [
        {
          "output_type": "stream",
          "text": [
            "Enter the lower range:4\n",
            "Enter the upper range:22\n",
            "[(4, 16), (5, 25), (6, 36), (7, 49), (8, 64), (9, 81), (10, 100), (11, 121), (12, 144), (13, 169), (14, 196), (15, 225), (16, 256), (17, 289), (18, 324), (19, 361), (20, 400), (21, 441), (22, 484)]\n"
          ],
          "name": "stdout"
        }
      ]
    },
    {
      "cell_type": "markdown",
      "metadata": {
        "id": "svK7b0u8F4Qo",
        "colab_type": "text"
      },
      "source": [
        "**The aforementioned program is already pythonic.We can still make it more pythonic as follows**"
      ]
    },
    {
      "cell_type": "code",
      "metadata": {
        "id": "GYaSmtDFF3Ux",
        "colab_type": "code",
        "colab": {
          "base_uri": "https://localhost:8080/",
          "height": 67
        },
        "outputId": "40d3a0f6-6135-4aad-fbcc-4bb54bc717e3"
      },
      "source": [
        "a=[(x,x**2) for x in range(int(input(\"Enter the lower range:\")),\\\n",
        "                           int(input(\"Enter the upper range:\"))+1)]\n",
        "print(a)"
      ],
      "execution_count": 21,
      "outputs": [
        {
          "output_type": "stream",
          "text": [
            "Enter the lower range:2\n",
            "Enter the upper range:4\n",
            "[(2, 4), (3, 9), (4, 16)]\n"
          ],
          "name": "stdout"
        }
      ]
    },
    {
      "cell_type": "markdown",
      "metadata": {
        "id": "MpL5tgFzGKJr",
        "colab_type": "text"
      },
      "source": [
        "**Of course, We can write in the most pythonic way with one line ! as follows**"
      ]
    },
    {
      "cell_type": "code",
      "metadata": {
        "id": "6KYaa-7eGOpZ",
        "colab_type": "code",
        "colab": {
          "base_uri": "https://localhost:8080/",
          "height": 67
        },
        "outputId": "a4edb9e6-c736-4fe0-90f1-7f36038003f3"
      },
      "source": [
        "print([(x,x**2) for x in range(int(input(\"Enter the lower range:\")),\\\n",
        "                           int(input(\"Enter the upper range:\"))+1)])"
      ],
      "execution_count": 22,
      "outputs": [
        {
          "output_type": "stream",
          "text": [
            "Enter the lower range:1\n",
            "Enter the upper range:3\n",
            "[(1, 1), (2, 4), (3, 9)]\n"
          ],
          "name": "stdout"
        }
      ]
    },
    {
      "cell_type": "markdown",
      "metadata": {
        "id": "FNsVfuQ_GUKp",
        "colab_type": "text"
      },
      "source": [
        "**Program to generate random numbers from 1 to 20 and append them to the list.**"
      ]
    },
    {
      "cell_type": "code",
      "metadata": {
        "id": "NrULv3cDGZHw",
        "colab_type": "code",
        "colab": {
          "base_uri": "https://localhost:8080/",
          "height": 50
        },
        "outputId": "f47fb107-a494-4f19-dabb-82b5f930eb6a"
      },
      "source": [
        "import random\n",
        "a=[]\n",
        "n=int(input(\"Enter number of elements:\"))\n",
        "for j in range(n):\n",
        "    a.append(random.randint(1,20))\n",
        "print('Randomised list is: ',a)"
      ],
      "execution_count": 23,
      "outputs": [
        {
          "output_type": "stream",
          "text": [
            "Enter number of elements:4\n",
            "Randomised list is:  [10, 2, 19, 15]\n"
          ],
          "name": "stdout"
        }
      ]
    },
    {
      "cell_type": "markdown",
      "metadata": {
        "id": "fkp3-ft_Ggf0",
        "colab_type": "text"
      },
      "source": [
        "**Pythonic program of 2 lines!**"
      ]
    },
    {
      "cell_type": "code",
      "metadata": {
        "id": "X_-m6Z1BGkd9",
        "colab_type": "code",
        "colab": {
          "base_uri": "https://localhost:8080/",
          "height": 50
        },
        "outputId": "77cc79e7-1e58-4491-c57c-315b76ebc32e"
      },
      "source": [
        "import random\n",
        "l=[random.randint(1,20) for _ in range(int(input(\"Enter how many elements\")))]\n",
        "print('Randomised list is: ',l)"
      ],
      "execution_count": 24,
      "outputs": [
        {
          "output_type": "stream",
          "text": [
            "Enter how many elements5\n",
            "Randomised list is:  [12, 12, 20, 18, 18]\n"
          ],
          "name": "stdout"
        }
      ]
    },
    {
      "cell_type": "markdown",
      "metadata": {
        "id": "lFbg2TKEGrg1",
        "colab_type": "text"
      },
      "source": [
        "**Program for printing list of values with indexing**"
      ]
    },
    {
      "cell_type": "code",
      "metadata": {
        "id": "5UaZh4PuGxdW",
        "colab_type": "code",
        "colab": {
          "base_uri": "https://localhost:8080/",
          "height": 218
        },
        "outputId": "96f4d5a4-a6b7-42be-acb4-93f835a45a85"
      },
      "source": [
        "names = ['Jan','Feb','Mar','Apr','May','Jun','Jul','Aug','Sep','Oct','Nov','Dec']\n",
        "index=0\n",
        "for i in names:\n",
        "    print(str(index)+\":\"+i)\n",
        "    index=index+1"
      ],
      "execution_count": 25,
      "outputs": [
        {
          "output_type": "stream",
          "text": [
            "0:Jan\n",
            "1:Feb\n",
            "2:Mar\n",
            "3:Apr\n",
            "4:May\n",
            "5:Jun\n",
            "6:Jul\n",
            "7:Aug\n",
            "8:Sep\n",
            "9:Oct\n",
            "10:Nov\n",
            "11:Dec\n"
          ],
          "name": "stdout"
        }
      ]
    },
    {
      "cell_type": "markdown",
      "metadata": {
        "id": "BSnSyh73G1XA",
        "colab_type": "text"
      },
      "source": [
        "**using Pythonic way using enumerate()!**"
      ]
    },
    {
      "cell_type": "code",
      "metadata": {
        "id": "ipwgMq86G87Z",
        "colab_type": "code",
        "colab": {
          "base_uri": "https://localhost:8080/",
          "height": 218
        },
        "outputId": "532ab57f-e0b4-4b29-bdd7-267e3f5c6413"
      },
      "source": [
        "names = ['Jan','Feb','Mar','Apr','May','Jun','Jul','Aug','Sep','Oct','Nov','Dec']\n",
        "for index, value in enumerate(names):\n",
        "    print(f'{index+1}: {value}')"
      ],
      "execution_count": 26,
      "outputs": [
        {
          "output_type": "stream",
          "text": [
            "1: Jan\n",
            "2: Feb\n",
            "3: Mar\n",
            "4: Apr\n",
            "5: May\n",
            "6: Jun\n",
            "7: Jul\n",
            "8: Aug\n",
            "9: Sep\n",
            "10: Oct\n",
            "11: Nov\n",
            "12: Dec\n"
          ],
          "name": "stdout"
        }
      ]
    }
  ]
}