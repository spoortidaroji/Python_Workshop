{
  "nbformat": 4,
  "nbformat_minor": 0,
  "metadata": {
    "colab": {
      "name": "Day 2 session 1 sample.ipynb",
      "provenance": [],
      "authorship_tag": "ABX9TyM5yRhxPX8IUlEeFoipbr1w",
      "include_colab_link": true
    },
    "kernelspec": {
      "name": "python3",
      "display_name": "Python 3"
    }
  },
  "cells": [
    {
      "cell_type": "markdown",
      "metadata": {
        "id": "view-in-github",
        "colab_type": "text"
      },
      "source": [
        "<a href=\"https://colab.research.google.com/github/spoortidaroji/Python_Workshop/blob/master/Day_2_session_1_sample.ipynb\" target=\"_parent\"><img src=\"https://colab.research.google.com/assets/colab-badge.svg\" alt=\"Open In Colab\"/></a>"
      ]
    },
    {
      "cell_type": "markdown",
      "metadata": {
        "id": "Z4zqp-3IQXpz",
        "colab_type": "text"
      },
      "source": [
        "\n",
        "\n",
        "**List examples**\n",
        "\n",
        "\n"
      ]
    },
    {
      "cell_type": "markdown",
      "metadata": {
        "id": "wjdXNHZFOmAM",
        "colab_type": "text"
      },
      "source": [
        "**Program to find the largest number in a list.**\n",
        "\n"
      ]
    },
    {
      "cell_type": "code",
      "metadata": {
        "id": "2Ec6lL9QDeTg",
        "colab_type": "code",
        "colab": {
          "base_uri": "https://localhost:8080/",
          "height": 134
        },
        "outputId": "1d555573-125a-4aec-bee6-d7e5e8a2df77"
      },
      "source": [
        "#Program to find the largest number in a list.\n",
        "a=[]\n",
        "n=int(input(\"Enter number of elements:\"))\n",
        "for i in range(1,n+1):\n",
        "    b=int(input(\"Enter element:\"))\n",
        "    a.append(b)\n",
        "a.sort()\n",
        "print(\"Largest element is:\",a[n-1])"
      ],
      "execution_count": 3,
      "outputs": [
        {
          "output_type": "stream",
          "text": [
            "Enter number of elements:5\n",
            "Enter element:2\n",
            "Enter element:3\n",
            "Enter element:100\n",
            "Enter element:50\n",
            "Enter element:36\n",
            "Largest element is: 100\n"
          ],
          "name": "stdout"
        }
      ]
    },
    {
      "cell_type": "markdown",
      "metadata": {
        "id": "F5BgAq1GOkbC",
        "colab_type": "text"
      },
      "source": [
        "**pythonic  2 lines program equivalent to above codings as shown below !**\n",
        "**bold text**"
      ]
    },
    {
      "cell_type": "code",
      "metadata": {
        "id": "uyvQP6yWRMTX",
        "colab_type": "code",
        "colab": {
          "base_uri": "https://localhost:8080/",
          "height": 134
        },
        "outputId": "f329c77d-3510-49fe-f5ca-2638eb4431c6"
      },
      "source": [
        "x=0\n",
        "print('The greatest no is',max([int(input(x)) for _ in range(int(input(\"Enter no\")))]))"
      ],
      "execution_count": 5,
      "outputs": [
        {
          "output_type": "stream",
          "text": [
            "Enter no5\n",
            "2\n",
            "3\n",
            "100\n",
            "50\n",
            "36\n",
            "The greatest no is 100\n"
          ],
          "name": "stdout"
        }
      ]
    },
    {
      "cell_type": "markdown",
      "metadata": {
        "id": "SCk0Q6PiRlyh",
        "colab_type": "text"
      },
      "source": [
        "**Python Program to put the even and odd elements in a list into two different lists.**"
      ]
    },
    {
      "cell_type": "code",
      "metadata": {
        "id": "AehK7XbjRp8g",
        "colab_type": "code",
        "colab": {
          "base_uri": "https://localhost:8080/",
          "height": 185
        },
        "outputId": "a47925b4-e73f-4697-f68d-18dd9e84b67d"
      },
      "source": [
        "#Python Program to put the even and odd elements in a list into two different lists. \n",
        "a=[]\n",
        "n=int(input(\"Enter number of elements:\"))\n",
        "for i in range(1,n+1):\n",
        "    b=int(input(\"Enter element:\"))\n",
        "    a.append(b)\n",
        "even=[]\n",
        "odd=[]\n",
        "for j in a:\n",
        "    if(j%2==0):\n",
        "        even.append(j)\n",
        "    else:\n",
        "        odd.append(j)\n",
        "print(\"The even list\",even)\n",
        "print(\"The odd list\",odd)"
      ],
      "execution_count": 6,
      "outputs": [
        {
          "output_type": "stream",
          "text": [
            "Enter number of elements:7\n",
            "Enter element:0\n",
            "Enter element:5\n",
            "Enter element:4\n",
            "Enter element:23\n",
            "Enter element:28\n",
            "Enter element:99\n",
            "Enter element:785\n",
            "The even list [0, 4, 28]\n",
            "The odd list [5, 23, 99, 785]\n"
          ],
          "name": "stdout"
        }
      ]
    },
    {
      "cell_type": "markdown",
      "metadata": {
        "id": "Sq_DJLTQR68_",
        "colab_type": "text"
      },
      "source": [
        "**Instead of  forementioned 14 lines program, the equivalent 4 lines ! \n",
        "Pythonic program is here ....**\n"
      ]
    },
    {
      "cell_type": "code",
      "metadata": {
        "id": "ioTfb_0MSC4H",
        "colab_type": "code",
        "colab": {
          "base_uri": "https://localhost:8080/",
          "height": 151
        },
        "outputId": "37234aeb-3e70-4936-808c-2cbc1a688d68"
      },
      "source": [
        "#Instead of  forementioned 14 lines program, the equivalent 4 lines ! \n",
        "#Pythonic program is here ....\n",
        "\n",
        "x=0\n",
        "l=[int(input(x)) for _ in range(int(input(\"Enter n\")))]\n",
        "print('even list is',[ i for i in l if i%2])\n",
        "print('odd list is',[i for i in l if not i%2])"
      ],
      "execution_count": 7,
      "outputs": [
        {
          "output_type": "stream",
          "text": [
            "Enter n5\n",
            "2\n",
            "4\n",
            "3\n",
            "0\n",
            "8\n",
            "even list is [3]\n",
            "odd list is [2, 4, 0, 8]\n"
          ],
          "name": "stdout"
        }
      ]
    },
    {
      "cell_type": "markdown",
      "metadata": {
        "id": "Eklfkk4uSLNn",
        "colab_type": "text"
      },
      "source": [
        "**Python Program to merge two lists and sort it.**\n"
      ]
    },
    {
      "cell_type": "code",
      "metadata": {
        "id": "EPpzs-Q3SRR0",
        "colab_type": "code",
        "colab": {
          "base_uri": "https://localhost:8080/",
          "height": 218
        },
        "outputId": "52dcdb4b-6fbe-40b2-a282-d63a3098a7c5"
      },
      "source": [
        "#Python Program to merge two lists and sort it.\n",
        "a=[]\n",
        "c=[]\n",
        "n1=int(input(\"Enter number of elements:\"))\n",
        "for i in range(1,n1+1):\n",
        "    b=int(input(\"Enter element:\"))\n",
        "    a.append(b)\n",
        "n2=int(input(\"Enter number of elements:\"))\n",
        "for i in range(1,n2+1):\n",
        "    d=int(input(\"Enter element:\"))\n",
        "    c.append(d)\n",
        "new=a+c\n",
        "new.sort()\n",
        "print(\"Sorted list is:\",new)"
      ],
      "execution_count": 8,
      "outputs": [
        {
          "output_type": "stream",
          "text": [
            "Enter number of elements:4\n",
            "Enter element:8\n",
            "Enter element:7\n",
            "Enter element:9\n",
            "Enter element:0\n",
            "Enter number of elements:5\n",
            "Enter element:1\n",
            "Enter element:3\n",
            "Enter element:5\n",
            "Enter element:10\n",
            "Enter element:99\n",
            "Sorted list is: [0, 1, 3, 5, 7, 8, 9, 10, 99]\n"
          ],
          "name": "stdout"
        }
      ]
    },
    {
      "cell_type": "markdown",
      "metadata": {
        "id": "GE0G2RbPk3eY",
        "colab_type": "text"
      },
      "source": [
        "**Instead of  forementioned 13 lines program, the equivalent 5 lines !\n",
        " Pythonic program is here ....**\n",
        "\n"
      ]
    },
    {
      "cell_type": "code",
      "metadata": {
        "id": "epzzFA5Xk9OC",
        "colab_type": "code",
        "colab": {
          "base_uri": "https://localhost:8080/",
          "height": 151
        },
        "outputId": "572078d1-54f8-4627-9033-ca21794d700e"
      },
      "source": [
        "#Instead of  forementioned 13 lines program, the equivalent 5 lines !\n",
        "# Pythonic program is here ....\n",
        "\n",
        "x=0\n",
        "l=[int(input(x)) for _ in range(int(input(\"Enter how many elements\")))]\n",
        "m=[int(input(x)) for _ in range(int(input(\"Enter how many elements \")))]\n",
        "new=l+m\n",
        "new.sort()\n",
        "print(\"Sorted list is:\",new)"
      ],
      "execution_count": 9,
      "outputs": [
        {
          "output_type": "stream",
          "text": [
            "Enter how many elements3\n",
            "1\n",
            "8\n",
            "10\n",
            "Enter how many elements 2\n",
            "9\n",
            "4\n",
            "Sorted list is: [1, 4, 8, 9, 10]\n"
          ],
          "name": "stdout"
        }
      ]
    },
    {
      "cell_type": "markdown",
      "metadata": {
        "id": "vAit698AlHza",
        "colab_type": "text"
      },
      "source": [
        "**Python Program to sort the list according to the second element in the sublist**"
      ]
    },
    {
      "cell_type": "code",
      "metadata": {
        "id": "oiuyacBylNDA",
        "colab_type": "code",
        "colab": {
          "base_uri": "https://localhost:8080/",
          "height": 34
        },
        "outputId": "60d6e9dd-d19a-40bd-8813-800edf095810"
      },
      "source": [
        "#Python Program to sort the list according to the second element in the sublist.\n",
        "a=[['A',34],['B',21],['C',26],['E',29]]\n",
        "for i in range(0,len(a)):\n",
        "    for j in range(i+1,len(a)):\n",
        "        if(a[i][1]>a[j][1]):\n",
        "            temp=a[j]\n",
        "            a[j]=a[i]\n",
        "            a[i]=temp\n",
        "print(a)"
      ],
      "execution_count": 10,
      "outputs": [
        {
          "output_type": "stream",
          "text": [
            "[['B', 21], ['C', 26], ['E', 29], ['A', 34]]\n"
          ],
          "name": "stdout"
        }
      ]
    },
    {
      "cell_type": "markdown",
      "metadata": {
        "id": "Ijo65bn6lo2l",
        "colab_type": "text"
      },
      "source": [
        "**Instead of  forementioned 8 lines program, the equivalent 3 lines ! \n",
        "Pythonic program is here ....**\n"
      ]
    },
    {
      "cell_type": "code",
      "metadata": {
        "id": "g4WvtDsMlusp",
        "colab_type": "code",
        "colab": {
          "base_uri": "https://localhost:8080/",
          "height": 34
        },
        "outputId": "b9ce0b6d-f05d-4204-ef74-578c1102a61f"
      },
      "source": [
        "#Instead of  forementioned 8 lines program, the equivalent 3 lines ! \n",
        "#Pythonic program is here ....\n",
        "\n",
        "a=[['A',34],['B',21],['C',26],['E',29]]\n",
        "a.sort(key = lambda x: x[1]) \n",
        "print(a)"
      ],
      "execution_count": 11,
      "outputs": [
        {
          "output_type": "stream",
          "text": [
            "[['B', 21], ['C', 26], ['E', 29], ['A', 34]]\n"
          ],
          "name": "stdout"
        }
      ]
    },
    {
      "cell_type": "markdown",
      "metadata": {
        "id": "CalG8MUalypg",
        "colab_type": "text"
      },
      "source": [
        "**Python Program to find the second largest number in a list**"
      ]
    },
    {
      "cell_type": "code",
      "metadata": {
        "id": "JMLM8XVAl4r_",
        "colab_type": "code",
        "colab": {
          "base_uri": "https://localhost:8080/",
          "height": 118
        },
        "outputId": "708bef4e-06d9-437e-b61e-ca08aa6185a6"
      },
      "source": [
        "#Python Program to find the second largest number in a list \n",
        "a=[]\n",
        "n=int(input(\"Enter number of elements:\"))\n",
        "for i in range(1,n+1):\n",
        "    b=int(input(\"Enter element:\"))\n",
        "    a.append(b)\n",
        "for i in range(0,len(a)):\n",
        "    for j in range(0,len(a)-i-1):\n",
        "        if(a[j]>a[j+1]):\n",
        "            temp=a[j]\n",
        "            a[j]=a[j+1]\n",
        "            a[j+1]=temp \n",
        "print('Second largest number is:',a[n-2])"
      ],
      "execution_count": 12,
      "outputs": [
        {
          "output_type": "stream",
          "text": [
            "Enter number of elements:4\n",
            "Enter element:8\n",
            "Enter element:5\n",
            "Enter element:7\n",
            "Enter element:6\n",
            "Second largest number is: 7\n"
          ],
          "name": "stdout"
        }
      ]
    },
    {
      "cell_type": "markdown",
      "metadata": {
        "id": "wTlStqmwmXsT",
        "colab_type": "text"
      },
      "source": [
        "**Instead of  forementioned 12 lines program, the equivalent 4 lines ! \n",
        "Pythonic program is here ....**\n"
      ]
    },
    {
      "cell_type": "code",
      "metadata": {
        "id": "_9Ek6jUmmf2U",
        "colab_type": "code",
        "colab": {
          "base_uri": "https://localhost:8080/",
          "height": 118
        },
        "outputId": "0818bffd-b7f0-4fa8-a2eb-ccd6be3e8ad0"
      },
      "source": [
        "#Instead of  forementioned 12 lines program, the equivalent 4 lines ! \n",
        "#Pythonic program is here ....\n",
        "\n",
        "x=0\n",
        "l=[int(input(x)) for _ in range(int(input(\"Enter how many elements\")))]\n",
        "l.sort()\n",
        "print(\"Second largest element is :\",l[-2])"
      ],
      "execution_count": 13,
      "outputs": [
        {
          "output_type": "stream",
          "text": [
            "Enter how many elements4\n",
            "66\n",
            "99\n",
            "69\n",
            "65\n",
            "Second largest element is : 69\n"
          ],
          "name": "stdout"
        }
      ]
    },
    {
      "cell_type": "markdown",
      "metadata": {
        "id": "FC7K4EVMmuH7",
        "colab_type": "text"
      },
      "source": [
        "**Program to create a list of tuples with the first element as the number and the second element as the square of the number.**"
      ]
    },
    {
      "cell_type": "code",
      "metadata": {
        "id": "jQVhOijQmzIq",
        "colab_type": "code",
        "colab": {
          "base_uri": "https://localhost:8080/",
          "height": 67
        },
        "outputId": "af5a018c-f444-4287-e85c-9ff180237d4b"
      },
      "source": [
        "#Program to create a list of tuples with the first element as the number and the second element as the square of the number. \n",
        "l_range=int(input(\"Enter the lower range:\"))\n",
        "u_range=int(input(\"Enter the upper range:\"))\n",
        "a=[(x,x**2) for x in range(l_range,u_range+1)]\n",
        "print(a)"
      ],
      "execution_count": 14,
      "outputs": [
        {
          "output_type": "stream",
          "text": [
            "Enter the lower range:1\n",
            "Enter the upper range:5\n",
            "[(1, 1), (2, 4), (3, 9), (4, 16), (5, 25)]\n"
          ],
          "name": "stdout"
        }
      ]
    },
    {
      "cell_type": "markdown",
      "metadata": {
        "id": "1QEUFxIhm6kI",
        "colab_type": "text"
      },
      "source": [
        "**The aforementioned program is already pythonic. \n",
        "We can still make it more pythonic as follows** \n"
      ]
    },
    {
      "cell_type": "code",
      "metadata": {
        "id": "b-Src_GHnC3O",
        "colab_type": "code",
        "colab": {
          "base_uri": "https://localhost:8080/",
          "height": 67
        },
        "outputId": "67d6d4f6-3487-45e1-c483-14ab67c469f4"
      },
      "source": [
        "#The aforementioned program is already pythonic. \n",
        "#We can still make it more pythonic as follows \n",
        " \n",
        "a=[(x,x**2) for x in range(int(input(\"Enter the lower range:\")),\\\n",
        "                           int(input(\"Enter the upper range:\"))+1)]\n",
        "print(a)"
      ],
      "execution_count": 15,
      "outputs": [
        {
          "output_type": "stream",
          "text": [
            "Enter the lower range:0\n",
            "Enter the upper range:4\n",
            "[(0, 0), (1, 1), (2, 4), (3, 9), (4, 16)]\n"
          ],
          "name": "stdout"
        }
      ]
    },
    {
      "cell_type": "markdown",
      "metadata": {
        "id": "LTTF33xVnJ8T",
        "colab_type": "text"
      },
      "source": [
        "**Python Program to generate random numbers from 1 to 20 and append them to the list.**"
      ]
    },
    {
      "cell_type": "code",
      "metadata": {
        "id": "OKQFrudinO8v",
        "colab_type": "code",
        "colab": {
          "base_uri": "https://localhost:8080/",
          "height": 50
        },
        "outputId": "336734ff-b135-415f-cf78-8b79e9df21ef"
      },
      "source": [
        "#Python Program to generate random numbers from 1 to 20 and append them to the list.\n",
        "\n",
        "import random\n",
        "a=[]\n",
        "n=int(input(\"Enter number of elements:\"))\n",
        "for j in range(n):\n",
        "    a.append(random.randint(1,20))\n",
        "print('Randomised list is: ',a)"
      ],
      "execution_count": 16,
      "outputs": [
        {
          "output_type": "stream",
          "text": [
            "Enter number of elements:5\n",
            "Randomised list is:  [10, 12, 4, 15, 8]\n"
          ],
          "name": "stdout"
        }
      ]
    },
    {
      "cell_type": "markdown",
      "metadata": {
        "id": "WH90CrBWndjb",
        "colab_type": "text"
      },
      "source": [
        "**Tuple Examples**"
      ]
    },
    {
      "cell_type": "markdown",
      "metadata": {
        "id": "AZ0tv58EniBG",
        "colab_type": "text"
      },
      "source": [
        "**Write python program to have a list of words  to sort them from longest to shortest using list of tuples**"
      ]
    },
    {
      "cell_type": "code",
      "metadata": {
        "id": "KeKHNavsnmRD",
        "colab_type": "code",
        "colab": {
          "base_uri": "https://localhost:8080/",
          "height": 34
        },
        "outputId": "4b7c46fa-e12d-4321-d486-10c025c23e74"
      },
      "source": [
        "#Write python program to have a list of words  to sort them from longest to shortest using list of tuples\n",
        " \n",
        "txt = 'but soft what light in yonder window breaks'\n",
        "words = txt.split()\n",
        "t = list()\n",
        "for word in words:\n",
        "   t.append((len(word), word))\n",
        "t.sort(reverse=True)\n",
        "\n",
        "res = list()\n",
        "for length, word in t:\n",
        "    res.append(word)\n",
        "\n",
        "print(res)"
      ],
      "execution_count": 17,
      "outputs": [
        {
          "output_type": "stream",
          "text": [
            "['yonder', 'window', 'breaks', 'light', 'what', 'soft', 'but', 'in']\n"
          ],
          "name": "stdout"
        }
      ]
    },
    {
      "cell_type": "markdown",
      "metadata": {
        "id": "aCmwKM5Zn6AG",
        "colab_type": "text"
      },
      "source": [
        "**Python program that assigns variables**"
      ]
    },
    {
      "cell_type": "code",
      "metadata": {
        "id": "c84jmSaFn-Bc",
        "colab_type": "code",
        "colab": {
          "base_uri": "https://localhost:8080/",
          "height": 50
        },
        "outputId": "7c2f56fe-217f-4b98-df2a-59639608449c"
      },
      "source": [
        "#Python program that assigns variables\n",
        "\n",
        "# Create packed tuple.\n",
        "pair = (\"dog\", \"cat\")\n",
        "\n",
        "# Unpack tuple.\n",
        "(key, value) = pair\n",
        "\n",
        "# Display unpacked variables.\n",
        "print(key)\n",
        "print(value)"
      ],
      "execution_count": 18,
      "outputs": [
        {
          "output_type": "stream",
          "text": [
            "dog\n",
            "cat\n"
          ],
          "name": "stdout"
        }
      ]
    },
    {
      "cell_type": "markdown",
      "metadata": {
        "id": "VaAe-SSzoCgn",
        "colab_type": "text"
      },
      "source": [
        "**Python program that searches tuples**"
      ]
    },
    {
      "cell_type": "code",
      "metadata": {
        "id": "8rBff06_oHZi",
        "colab_type": "code",
        "colab": {
          "base_uri": "https://localhost:8080/",
          "height": 50
        },
        "outputId": "56aa30ff-1ff6-4bc6-ebda-34e670db9ae3"
      },
      "source": [
        "#Python program that searches tuples\n",
        "pair = (\"dog\", \"cat\")\n",
        "\n",
        "# Search for a value.\n",
        "if \"cat\" in pair:\n",
        "    print(\"Cat found\")\n",
        "\n",
        "# Search for a value not present.\n",
        "if \"bird\" not in pair:\n",
        "    print(\"Bird not found\")"
      ],
      "execution_count": 19,
      "outputs": [
        {
          "output_type": "stream",
          "text": [
            "Cat found\n",
            "Bird not found\n"
          ],
          "name": "stdout"
        }
      ]
    }
  ]
}