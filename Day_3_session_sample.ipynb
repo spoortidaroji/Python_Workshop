{
  "nbformat": 4,
  "nbformat_minor": 0,
  "metadata": {
    "colab": {
      "name": "Day 3 session  sample.ipynb",
      "provenance": [],
      "authorship_tag": "ABX9TyP4WqI3bGPtI8kKXuoZOqT1",
      "include_colab_link": true
    },
    "kernelspec": {
      "name": "python3",
      "display_name": "Python 3"
    }
  },
  "cells": [
    {
      "cell_type": "markdown",
      "metadata": {
        "id": "view-in-github",
        "colab_type": "text"
      },
      "source": [
        "<a href=\"https://colab.research.google.com/github/spoortidaroji/Python_Workshop/blob/master/Day_3_session_sample.ipynb\" target=\"_parent\"><img src=\"https://colab.research.google.com/assets/colab-badge.svg\" alt=\"Open In Colab\"/></a>"
      ]
    },
    {
      "cell_type": "markdown",
      "metadata": {
        "id": "CmBu2zE4QPVF",
        "colab_type": "text"
      },
      "source": [
        "**Program for prime number -bad code**\n",
        "\n"
      ]
    },
    {
      "cell_type": "code",
      "metadata": {
        "id": "jM6eCnyrQJ7o",
        "colab_type": "code",
        "colab": {
          "base_uri": "https://localhost:8080/",
          "height": 34
        },
        "outputId": "bfcc0907-9ca1-44d8-8474-93aa674f3646"
      },
      "source": [
        "i=25\n",
        "for x in range(2, i//2+1):\n",
        "  if i%x==0:\n",
        "   print(\"The number {} is not prime\".format(i))\n",
        "   break\n",
        "if x ==i//2:\n",
        "  print (\"{} is a prime number\".format(i)) "
      ],
      "execution_count": null,
      "outputs": [
        {
          "output_type": "stream",
          "text": [
            "The number 25 is not prime\n"
          ],
          "name": "stdout"
        }
      ]
    },
    {
      "cell_type": "markdown",
      "metadata": {
        "id": "0xLhyOglQsQ8",
        "colab_type": "text"
      },
      "source": [
        "**Good code using for... else**"
      ]
    },
    {
      "cell_type": "code",
      "metadata": {
        "id": "S1DHg6LcQfOe",
        "colab_type": "code",
        "colab": {
          "base_uri": "https://localhost:8080/",
          "height": 34
        },
        "outputId": "2da85209-ecff-4c00-d67f-7a74554bca18"
      },
      "source": [
        "i=25\n",
        "for x in range(2, i//2+1):\n",
        " if i%x==0:\n",
        "  print(\"The number {} is not prime\".format(i))\n",
        "  break\n",
        "else:\n",
        "  print (\"{} is a prime number\".format(i))"
      ],
      "execution_count": null,
      "outputs": [
        {
          "output_type": "stream",
          "text": [
            "The number 25 is not prime\n"
          ],
          "name": "stdout"
        }
      ]
    },
    {
      "cell_type": "markdown",
      "metadata": {
        "id": "qUd2gzlNSR5P",
        "colab_type": "text"
      },
      "source": [
        "**Using Unpacking to Write Concise Code**"
      ]
    },
    {
      "cell_type": "code",
      "metadata": {
        "id": "kDjhSPH2Qdkq",
        "colab_type": "code",
        "colab": {
          "base_uri": "https://localhost:8080/",
          "height": 50
        },
        "outputId": "b3e0241e-cbd8-4fcc-b42e-9bf2710fcf50"
      },
      "source": [
        "a, b = 2, 'my-string'\n",
        "print(a)\n",
        "print(b)"
      ],
      "execution_count": null,
      "outputs": [
        {
          "output_type": "stream",
          "text": [
            "2\n",
            "my-string\n"
          ],
          "name": "stdout"
        }
      ]
    },
    {
      "cell_type": "markdown",
      "metadata": {
        "id": "p2RpovaZSew6",
        "colab_type": "text"
      },
      "source": [
        "**Bad unpacking**"
      ]
    },
    {
      "cell_type": "code",
      "metadata": {
        "id": "PpbMZknISjZD",
        "colab_type": "code",
        "colab": {
          "base_uri": "https://localhost:8080/",
          "height": 34
        },
        "outputId": "9461ea80-63bb-4f08-fce6-02721f537f73"
      },
      "source": [
        "x = (1, 2, 4, 8, 16)\n",
        "a = x[0]\n",
        "b = x[1]\n",
        "c = x[2]\n",
        "d = x[3]\n",
        "e = x[4]\n",
        "print(a, b, c, d, e)"
      ],
      "execution_count": null,
      "outputs": [
        {
          "output_type": "stream",
          "text": [
            "1 2 4 8 16\n"
          ],
          "name": "stdout"
        }
      ]
    },
    {
      "cell_type": "markdown",
      "metadata": {
        "id": "F9LPFMToSpNa",
        "colab_type": "text"
      },
      "source": [
        "**Excellent unpacking**"
      ]
    },
    {
      "cell_type": "code",
      "metadata": {
        "id": "0IEFjM1_StR_",
        "colab_type": "code",
        "colab": {
          "base_uri": "https://localhost:8080/",
          "height": 34
        },
        "outputId": "a6b69649-a2c2-4df7-cf4b-6124bcaebd94"
      },
      "source": [
        "a,b,c,d,e=x\n",
        "print(a, b, c, d, e)"
      ],
      "execution_count": null,
      "outputs": [
        {
          "output_type": "stream",
          "text": [
            "1 2 4 8 16\n"
          ],
          "name": "stdout"
        }
      ]
    },
    {
      "cell_type": "markdown",
      "metadata": {
        "id": "xpI2qddPS1RC",
        "colab_type": "text"
      },
      "source": [
        "**unpacking some elements**"
      ]
    },
    {
      "cell_type": "code",
      "metadata": {
        "id": "wE3MS_F5SyHQ",
        "colab_type": "code",
        "colab": {
          "base_uri": "https://localhost:8080/",
          "height": 67
        },
        "outputId": "9c028223-733a-4c94-8ccc-acd46036a0c8"
      },
      "source": [
        "a, *y, e = x\n",
        "print(a)\n",
        "print(y)\n",
        "print(e)"
      ],
      "execution_count": null,
      "outputs": [
        {
          "output_type": "stream",
          "text": [
            "1\n",
            "[2, 4, 8]\n",
            "16\n"
          ],
          "name": "stdout"
        }
      ]
    },
    {
      "cell_type": "markdown",
      "metadata": {
        "id": "6zYO5r7Ru_fM",
        "colab_type": "text"
      },
      "source": [
        "**Using Chaining to Write Concise Code**"
      ]
    },
    {
      "cell_type": "code",
      "metadata": {
        "id": "4fnkKKM5vrPa",
        "colab_type": "code",
        "colab": {
          "base_uri": "https://localhost:8080/",
          "height": 34
        },
        "outputId": "61d56d77-4a47-462b-a5a5-0bbb29684c1f"
      },
      "source": [
        "x = 4\n",
        "print(x >= 2 and x <= 3)"
      ],
      "execution_count": 2,
      "outputs": [
        {
          "output_type": "stream",
          "text": [
            "False\n"
          ],
          "name": "stdout"
        }
      ]
    },
    {
      "cell_type": "markdown",
      "metadata": {
        "id": "5Z8Y8KdOwE1d",
        "colab_type": "text"
      },
      "source": [
        "**Instead, you can write this in a more compact form, like mathematicians do**"
      ]
    },
    {
      "cell_type": "code",
      "metadata": {
        "id": "6ufgLbr9wL7v",
        "colab_type": "code",
        "colab": {
          "base_uri": "https://localhost:8080/",
          "height": 50
        },
        "outputId": "d1799698-9fe4-4dcf-fd13-60262ea60407"
      },
      "source": [
        "print(2 <= x <= 8)\n",
        "print(2 <= x <= 3)"
      ],
      "execution_count": 3,
      "outputs": [
        {
          "output_type": "stream",
          "text": [
            "True\n",
            "False\n"
          ],
          "name": "stdout"
        }
      ]
    },
    {
      "cell_type": "markdown",
      "metadata": {
        "id": "r6BaXxfUwTsp",
        "colab_type": "text"
      },
      "source": [
        "**chained assignments**"
      ]
    },
    {
      "cell_type": "code",
      "metadata": {
        "id": "4F1XmjHRwWqL",
        "colab_type": "code",
        "colab": {
          "base_uri": "https://localhost:8080/",
          "height": 34
        },
        "outputId": "02a220cb-5e38-4f81-b73f-7e9a25065119"
      },
      "source": [
        "x = y = z = 2\n",
        "x, y, z # when we use , it becomes tuple"
      ],
      "execution_count": 4,
      "outputs": [
        {
          "output_type": "execute_result",
          "data": {
            "text/plain": [
              "(2, 2, 2)"
            ]
          },
          "metadata": {
            "tags": []
          },
          "execution_count": 4
        }
      ]
    },
    {
      "cell_type": "markdown",
      "metadata": {
        "id": "_H79cyo9wgBq",
        "colab_type": "text"
      },
      "source": [
        "**Checking against None**"
      ]
    },
    {
      "cell_type": "code",
      "metadata": {
        "id": "W8G-KqunwnVi",
        "colab_type": "code",
        "colab": {
          "base_uri": "https://localhost:8080/",
          "height": 84
        },
        "outputId": "17c06bca-70cc-411e-9a11-966b5c786cab"
      },
      "source": [
        "# normal way\n",
        "x, y = 2, None\n",
        "print(x == None)\n",
        "print(y == None)\n",
        "print(x != None)\n",
        "print(y != None)"
      ],
      "execution_count": 5,
      "outputs": [
        {
          "output_type": "stream",
          "text": [
            "False\n",
            "True\n",
            "True\n",
            "False\n"
          ],
          "name": "stdout"
        }
      ]
    },
    {
      "cell_type": "markdown",
      "metadata": {
        "id": "b5A8bxhvwt3p",
        "colab_type": "text"
      },
      "source": [
        "**In pythonic way**\n"
      ]
    },
    {
      "cell_type": "code",
      "metadata": {
        "id": "K9u62TGnwwjH",
        "colab_type": "code",
        "colab": {
          "base_uri": "https://localhost:8080/",
          "height": 84
        },
        "outputId": "04149e0c-bd40-41a2-ae64-a3624bb22216"
      },
      "source": [
        "x is None\n",
        "print(x is None)\n",
        "print(y is None)\n",
        "print(x is not None)\n",
        "print(y is not None)"
      ],
      "execution_count": 6,
      "outputs": [
        {
          "output_type": "stream",
          "text": [
            "False\n",
            "True\n",
            "True\n",
            "False\n"
          ],
          "name": "stdout"
        }
      ]
    },
    {
      "cell_type": "markdown",
      "metadata": {
        "id": "3sC5e7lmwyMv",
        "colab_type": "text"
      },
      "source": [
        "**Iterating over Sequences**"
      ]
    },
    {
      "cell_type": "code",
      "metadata": {
        "id": "i6GZ2qoQw1K2",
        "colab_type": "code",
        "colab": {
          "base_uri": "https://localhost:8080/",
          "height": 101
        },
        "outputId": "955a5c66-9b9c-4f4c-9c48-eed9a9e28eb6"
      },
      "source": [
        "x = [1, 2, 4, 8, 16]\n",
        "for i in range(len(x)):\n",
        " print(x[i])"
      ],
      "execution_count": 8,
      "outputs": [
        {
          "output_type": "stream",
          "text": [
            "1\n",
            "2\n",
            "4\n",
            "8\n",
            "16\n"
          ],
          "name": "stdout"
        }
      ]
    },
    {
      "cell_type": "markdown",
      "metadata": {
        "id": "Lz9bST4Zw54Y",
        "colab_type": "text"
      },
      "source": [
        "**But instead we can do like this in elegant way**"
      ]
    },
    {
      "cell_type": "code",
      "metadata": {
        "id": "nTwg8I8bw8z_",
        "colab_type": "code",
        "colab": {
          "base_uri": "https://localhost:8080/",
          "height": 101
        },
        "outputId": "be3e11db-989d-4ca6-c369-a66a2629e729"
      },
      "source": [
        "for item in x:\n",
        " print(item)"
      ],
      "execution_count": 9,
      "outputs": [
        {
          "output_type": "stream",
          "text": [
            "1\n",
            "2\n",
            "4\n",
            "8\n",
            "16\n"
          ],
          "name": "stdout"
        }
      ]
    },
    {
      "cell_type": "markdown",
      "metadata": {
        "id": "-g1U1IhuxELY",
        "colab_type": "text"
      },
      "source": [
        "**to iterate in the reversed order**"
      ]
    },
    {
      "cell_type": "code",
      "metadata": {
        "id": "y1C7jX1DxH_L",
        "colab_type": "code",
        "colab": {
          "base_uri": "https://localhost:8080/",
          "height": 101
        },
        "outputId": "35661b16-3220-434c-ecf3-b5e9170018ca"
      },
      "source": [
        "for i in range(len(x)-1, -1, -1):\n",
        " print(x[i])"
      ],
      "execution_count": 10,
      "outputs": [
        {
          "output_type": "stream",
          "text": [
            "16\n",
            "8\n",
            "4\n",
            "2\n",
            "1\n"
          ],
          "name": "stdout"
        }
      ]
    },
    {
      "cell_type": "markdown",
      "metadata": {
        "id": "uacn51mTxMxg",
        "colab_type": "text"
      },
      "source": [
        "**But in elegant way!**"
      ]
    },
    {
      "cell_type": "code",
      "metadata": {
        "id": "RUqJ2WmnxPYx",
        "colab_type": "code",
        "colab": {
          "base_uri": "https://localhost:8080/",
          "height": 101
        },
        "outputId": "6a2e46ab-8554-4f3c-cea0-ad4ee1bdc8a1"
      },
      "source": [
        "for item in x[::-1]:\n",
        "  print(item)"
      ],
      "execution_count": 11,
      "outputs": [
        {
          "output_type": "stream",
          "text": [
            "16\n",
            "8\n",
            "4\n",
            "2\n",
            "1\n"
          ],
          "name": "stdout"
        }
      ]
    },
    {
      "cell_type": "markdown",
      "metadata": {
        "id": "7TNTSv5YxX2y",
        "colab_type": "text"
      },
      "source": [
        "**The Pythonic way is to use reversed to get an iterator that yields the items of a sequence in the reversed order:**"
      ]
    },
    {
      "cell_type": "code",
      "metadata": {
        "id": "ZJFUmxssxdh2",
        "colab_type": "code",
        "colab": {
          "base_uri": "https://localhost:8080/",
          "height": 101
        },
        "outputId": "9fe5631c-2814-496d-f729-af0fec35fd00"
      },
      "source": [
        "for item in reversed(x):\n",
        " print(item)"
      ],
      "execution_count": 12,
      "outputs": [
        {
          "output_type": "stream",
          "text": [
            "16\n",
            "8\n",
            "4\n",
            "2\n",
            "1\n"
          ],
          "name": "stdout"
        }
      ]
    },
    {
      "cell_type": "markdown",
      "metadata": {
        "id": "xkTFbi_2xju3",
        "colab_type": "text"
      },
      "source": [
        "**Sometimes you need both the items from a sequence and the corresponding indices**"
      ]
    },
    {
      "cell_type": "code",
      "metadata": {
        "id": "pnIZePV1xpQQ",
        "colab_type": "code",
        "colab": {
          "base_uri": "https://localhost:8080/",
          "height": 101
        },
        "outputId": "9da48c4a-d6e6-47ba-db34-0c2008ff2820"
      },
      "source": [
        "for i in range(len(x)):\n",
        " print(i, x[i])"
      ],
      "execution_count": 13,
      "outputs": [
        {
          "output_type": "stream",
          "text": [
            "0 1\n",
            "1 2\n",
            "2 4\n",
            "3 8\n",
            "4 16\n"
          ],
          "name": "stdout"
        }
      ]
    },
    {
      "cell_type": "markdown",
      "metadata": {
        "id": "fmS5fUmLxs6h",
        "colab_type": "text"
      },
      "source": [
        "**It’s better to use enumerate to get another iterator that yields the tuples with the indices and items**"
      ]
    },
    {
      "cell_type": "code",
      "metadata": {
        "id": "pR2HIXR9xy4e",
        "colab_type": "code",
        "colab": {
          "base_uri": "https://localhost:8080/",
          "height": 101
        },
        "outputId": "455f51a1-69b2-4e15-a364-7cc730bb1042"
      },
      "source": [
        "for i, item in enumerate(x):\n",
        " print(i, item)"
      ],
      "execution_count": 14,
      "outputs": [
        {
          "output_type": "stream",
          "text": [
            "0 1\n",
            "1 2\n",
            "2 4\n",
            "3 8\n",
            "4 16\n"
          ],
          "name": "stdout"
        }
      ]
    },
    {
      "cell_type": "markdown",
      "metadata": {
        "id": "7SL-lW6ax5jp",
        "colab_type": "text"
      },
      "source": [
        "**what if you want to iterate over two or more sequences? Of course, you can use the range again**"
      ]
    },
    {
      "cell_type": "code",
      "metadata": {
        "id": "IBNjrz7jx_F3",
        "colab_type": "code",
        "colab": {
          "base_uri": "https://localhost:8080/",
          "height": 101
        },
        "outputId": "73e30a40-1886-47ed-c788-fadf1915035f"
      },
      "source": [
        "y = 'abcde'\n",
        "for i in range(len(x)):\n",
        " print(x[i], y[i])"
      ],
      "execution_count": 15,
      "outputs": [
        {
          "output_type": "stream",
          "text": [
            "1 a\n",
            "2 b\n",
            "4 c\n",
            "8 d\n",
            "16 e\n"
          ],
          "name": "stdout"
        }
      ]
    },
    {
      "cell_type": "markdown",
      "metadata": {
        "id": "OzL5TlUMyE6_",
        "colab_type": "text"
      },
      "source": [
        "**In this case, Python also offers a better solution. You can apply zip and get tuples of the corresponding items**"
      ]
    },
    {
      "cell_type": "code",
      "metadata": {
        "id": "ouoJu3JPyJ7C",
        "colab_type": "code",
        "colab": {
          "base_uri": "https://localhost:8080/",
          "height": 101
        },
        "outputId": "e93bf8b0-cda3-47fc-ffc0-3a2c42adc7d4"
      },
      "source": [
        "for item in zip(x, y):\n",
        " print(item)"
      ],
      "execution_count": 16,
      "outputs": [
        {
          "output_type": "stream",
          "text": [
            "(1, 'a')\n",
            "(2, 'b')\n",
            "(4, 'c')\n",
            "(8, 'd')\n",
            "(16, 'e')\n"
          ],
          "name": "stdout"
        }
      ]
    },
    {
      "cell_type": "markdown",
      "metadata": {
        "id": "WvFtf_7kyPFp",
        "colab_type": "text"
      },
      "source": [
        "**You can combine it with unpacking**"
      ]
    },
    {
      "cell_type": "code",
      "metadata": {
        "id": "R6HEEbdiySSW",
        "colab_type": "code",
        "colab": {
          "base_uri": "https://localhost:8080/",
          "height": 101
        },
        "outputId": "ef890f0a-3ccd-403c-fbf7-3e4dd13ba6d9"
      },
      "source": [
        "for x_item, y_item in zip(x, y):\n",
        " print(x_item, y_item)"
      ],
      "execution_count": 17,
      "outputs": [
        {
          "output_type": "stream",
          "text": [
            "1 a\n",
            "2 b\n",
            "4 c\n",
            "8 d\n",
            "16 e\n"
          ],
          "name": "stdout"
        }
      ]
    },
    {
      "cell_type": "markdown",
      "metadata": {
        "id": "UNDCOQfVyYlH",
        "colab_type": "text"
      },
      "source": [
        "**Dictionary can be iterated in these two ways**"
      ]
    },
    {
      "cell_type": "code",
      "metadata": {
        "id": "m6WM-VPOyc0e",
        "colab_type": "code",
        "colab": {
          "base_uri": "https://localhost:8080/",
          "height": 50
        },
        "outputId": "fabd8b33-e939-45f1-abfc-605e5a5206ef"
      },
      "source": [
        "z = {'a': 0, 'b': 1}\n",
        "for k in z:\n",
        " print(k, z[k])"
      ],
      "execution_count": 18,
      "outputs": [
        {
          "output_type": "stream",
          "text": [
            "a 0\n",
            "b 1\n"
          ],
          "name": "stdout"
        }
      ]
    },
    {
      "cell_type": "code",
      "metadata": {
        "id": "Shyo-krBymMB",
        "colab_type": "code",
        "colab": {
          "base_uri": "https://localhost:8080/",
          "height": 50
        },
        "outputId": "6e7861c0-88f0-4e51-9cb4-431406ed004b"
      },
      "source": [
        "for k, v in z.items():\n",
        " print(k, v)"
      ],
      "execution_count": 19,
      "outputs": [
        {
          "output_type": "stream",
          "text": [
            "a 0\n",
            "b 1\n"
          ],
          "name": "stdout"
        }
      ]
    },
    {
      "cell_type": "markdown",
      "metadata": {
        "id": "IOQ4qL_LyjHl",
        "colab_type": "text"
      },
      "source": [
        "**Comparing to Zero**"
      ]
    },
    {
      "cell_type": "code",
      "metadata": {
        "id": "7gkWQ1WtysPN",
        "colab_type": "code",
        "colab": {
          "base_uri": "https://localhost:8080/",
          "height": 84
        },
        "outputId": "caf90365-8c33-450c-fa06-92abb360034e"
      },
      "source": [
        "#When you have numeric data, and you need to check if the numbers are equal to zero, you can but don’t have to use the comparison operators == and !=:\n",
        "#To print only non zero values from tuple x\n",
        "x = (1, 2, 0, 3, 0, 4)\n",
        "for item in x:\n",
        " if item != 0:\n",
        "  print(item)"
      ],
      "execution_count": 22,
      "outputs": [
        {
          "output_type": "stream",
          "text": [
            "1\n",
            "2\n",
            "3\n",
            "4\n"
          ],
          "name": "stdout"
        }
      ]
    },
    {
      "cell_type": "code",
      "metadata": {
        "id": "6FdF891wzL9c",
        "colab_type": "code",
        "colab": {
          "base_uri": "https://localhost:8080/",
          "height": 84
        },
        "outputId": "161065dd-b2d7-4e99-de3c-582c2c2201f4"
      },
      "source": [
        "for item in x:\n",
        " if item:\n",
        "  print(item)"
      ],
      "execution_count": 23,
      "outputs": [
        {
          "output_type": "stream",
          "text": [
            "1\n",
            "2\n",
            "3\n",
            "4\n"
          ],
          "name": "stdout"
        }
      ]
    },
    {
      "cell_type": "markdown",
      "metadata": {
        "id": "A0QrBp7uzVVx",
        "colab_type": "text"
      },
      "source": [
        "**Avoiding Mutable Optional Arguments**"
      ]
    },
    {
      "cell_type": "code",
      "metadata": {
        "id": "K__bCKYIzgj0",
        "colab_type": "code",
        "colab": {
          "base_uri": "https://localhost:8080/",
          "height": 34
        },
        "outputId": "25c985fd-8693-48f3-c849-90075676f43d"
      },
      "source": [
        "def func(value, seq=[]):\n",
        " seq.append(value)\n",
        " return seq\n",
        "print(func(value=2))"
      ],
      "execution_count": 25,
      "outputs": [
        {
          "output_type": "stream",
          "text": [
            "[2]\n"
          ],
          "name": "stdout"
        }
      ]
    },
    {
      "cell_type": "code",
      "metadata": {
        "id": "2S2cfLGlzmVS",
        "colab_type": "code",
        "colab": {
          "base_uri": "https://localhost:8080/",
          "height": 67
        },
        "outputId": "65ea71a9-ded6-4bf3-a3f0-2e303d8832da"
      },
      "source": [
        "print(func(value=4))\n",
        "print(func(value=6))\n",
        "print(func(value=8))"
      ],
      "execution_count": 26,
      "outputs": [
        {
          "output_type": "stream",
          "text": [
            "[2, 4]\n",
            "[2, 4, 6]\n",
            "[2, 4, 6, 8]\n"
          ],
          "name": "stdout"
        }
      ]
    },
    {
      "cell_type": "markdown",
      "metadata": {
        "id": "bEsPeWjHzp79",
        "colab_type": "text"
      },
      "source": [
        "**keep away from that with some additional logic**"
      ]
    },
    {
      "cell_type": "code",
      "metadata": {
        "id": "ungg3Wzcztf3",
        "colab_type": "code",
        "colab": {
          "base_uri": "https://localhost:8080/",
          "height": 34
        },
        "outputId": "d3c674da-22b3-4ee2-b594-93042ae91538"
      },
      "source": [
        "def func(value, seq=None):\n",
        " if seq is None:\n",
        "  seq = []\n",
        "  seq.append(value)\n",
        "  return seq\n",
        "print(func(value=6))"
      ],
      "execution_count": 27,
      "outputs": [
        {
          "output_type": "stream",
          "text": [
            "[6]\n"
          ],
          "name": "stdout"
        }
      ]
    }
  ]
}